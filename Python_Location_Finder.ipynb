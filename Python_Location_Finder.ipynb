{
  "nbformat": 4,
  "nbformat_minor": 0,
  "metadata": {
    "colab": {
      "provenance": []
    },
    "kernelspec": {
      "name": "python3",
      "display_name": "Python 3"
    },
    "language_info": {
      "name": "python"
    },
    "widgets": {
      "application/vnd.jupyter.widget-state+json": {
        "031f241120f944faa1e9287cc89b10b4": {
          "model_module": "@jupyter-widgets/controls",
          "model_name": "FloatTextModel",
          "model_module_version": "1.5.0",
          "state": {
            "_dom_classes": [],
            "_model_module": "@jupyter-widgets/controls",
            "_model_module_version": "1.5.0",
            "_model_name": "FloatTextModel",
            "_view_count": null,
            "_view_module": "@jupyter-widgets/controls",
            "_view_module_version": "1.5.0",
            "_view_name": "FloatTextView",
            "continuous_update": false,
            "description": "Latitude:",
            "description_tooltip": null,
            "disabled": false,
            "layout": "IPY_MODEL_39cf4eb242c049cdb3534a33db917013",
            "step": null,
            "style": "IPY_MODEL_2f19dabd081e4d79be6f37e171c6fe37",
            "value": 0
          }
        },
        "39cf4eb242c049cdb3534a33db917013": {
          "model_module": "@jupyter-widgets/base",
          "model_name": "LayoutModel",
          "model_module_version": "1.2.0",
          "state": {
            "_model_module": "@jupyter-widgets/base",
            "_model_module_version": "1.2.0",
            "_model_name": "LayoutModel",
            "_view_count": null,
            "_view_module": "@jupyter-widgets/base",
            "_view_module_version": "1.2.0",
            "_view_name": "LayoutView",
            "align_content": null,
            "align_items": null,
            "align_self": null,
            "border": null,
            "bottom": null,
            "display": null,
            "flex": null,
            "flex_flow": null,
            "grid_area": null,
            "grid_auto_columns": null,
            "grid_auto_flow": null,
            "grid_auto_rows": null,
            "grid_column": null,
            "grid_gap": null,
            "grid_row": null,
            "grid_template_areas": null,
            "grid_template_columns": null,
            "grid_template_rows": null,
            "height": null,
            "justify_content": null,
            "justify_items": null,
            "left": null,
            "margin": null,
            "max_height": null,
            "max_width": null,
            "min_height": null,
            "min_width": null,
            "object_fit": null,
            "object_position": null,
            "order": null,
            "overflow": null,
            "overflow_x": null,
            "overflow_y": null,
            "padding": null,
            "right": null,
            "top": null,
            "visibility": null,
            "width": null
          }
        },
        "2f19dabd081e4d79be6f37e171c6fe37": {
          "model_module": "@jupyter-widgets/controls",
          "model_name": "DescriptionStyleModel",
          "model_module_version": "1.5.0",
          "state": {
            "_model_module": "@jupyter-widgets/controls",
            "_model_module_version": "1.5.0",
            "_model_name": "DescriptionStyleModel",
            "_view_count": null,
            "_view_module": "@jupyter-widgets/base",
            "_view_module_version": "1.2.0",
            "_view_name": "StyleView",
            "description_width": ""
          }
        },
        "046b771b4bb240c99b6b6bef80d8ead5": {
          "model_module": "@jupyter-widgets/controls",
          "model_name": "FloatTextModel",
          "model_module_version": "1.5.0",
          "state": {
            "_dom_classes": [],
            "_model_module": "@jupyter-widgets/controls",
            "_model_module_version": "1.5.0",
            "_model_name": "FloatTextModel",
            "_view_count": null,
            "_view_module": "@jupyter-widgets/controls",
            "_view_module_version": "1.5.0",
            "_view_name": "FloatTextView",
            "continuous_update": false,
            "description": "Longitude:",
            "description_tooltip": null,
            "disabled": false,
            "layout": "IPY_MODEL_bb6f418a966a4dbbb446009de581c927",
            "step": null,
            "style": "IPY_MODEL_fa88fa7e65bf4e11b2bcf6310e77ca46",
            "value": 0
          }
        },
        "bb6f418a966a4dbbb446009de581c927": {
          "model_module": "@jupyter-widgets/base",
          "model_name": "LayoutModel",
          "model_module_version": "1.2.0",
          "state": {
            "_model_module": "@jupyter-widgets/base",
            "_model_module_version": "1.2.0",
            "_model_name": "LayoutModel",
            "_view_count": null,
            "_view_module": "@jupyter-widgets/base",
            "_view_module_version": "1.2.0",
            "_view_name": "LayoutView",
            "align_content": null,
            "align_items": null,
            "align_self": null,
            "border": null,
            "bottom": null,
            "display": null,
            "flex": null,
            "flex_flow": null,
            "grid_area": null,
            "grid_auto_columns": null,
            "grid_auto_flow": null,
            "grid_auto_rows": null,
            "grid_column": null,
            "grid_gap": null,
            "grid_row": null,
            "grid_template_areas": null,
            "grid_template_columns": null,
            "grid_template_rows": null,
            "height": null,
            "justify_content": null,
            "justify_items": null,
            "left": null,
            "margin": null,
            "max_height": null,
            "max_width": null,
            "min_height": null,
            "min_width": null,
            "object_fit": null,
            "object_position": null,
            "order": null,
            "overflow": null,
            "overflow_x": null,
            "overflow_y": null,
            "padding": null,
            "right": null,
            "top": null,
            "visibility": null,
            "width": null
          }
        },
        "fa88fa7e65bf4e11b2bcf6310e77ca46": {
          "model_module": "@jupyter-widgets/controls",
          "model_name": "DescriptionStyleModel",
          "model_module_version": "1.5.0",
          "state": {
            "_model_module": "@jupyter-widgets/controls",
            "_model_module_version": "1.5.0",
            "_model_name": "DescriptionStyleModel",
            "_view_count": null,
            "_view_module": "@jupyter-widgets/base",
            "_view_module_version": "1.2.0",
            "_view_name": "StyleView",
            "description_width": ""
          }
        },
        "34a480bcfd844d1e9de42d514554b076": {
          "model_module": "@jupyter-widgets/controls",
          "model_name": "TextModel",
          "model_module_version": "1.5.0",
          "state": {
            "_dom_classes": [],
            "_model_module": "@jupyter-widgets/controls",
            "_model_module_version": "1.5.0",
            "_model_name": "TextModel",
            "_view_count": null,
            "_view_module": "@jupyter-widgets/controls",
            "_view_module_version": "1.5.0",
            "_view_name": "TextView",
            "continuous_update": true,
            "description": "Category:",
            "description_tooltip": null,
            "disabled": false,
            "layout": "IPY_MODEL_1576a16376864494a11853d2306783d2",
            "placeholder": "​",
            "style": "IPY_MODEL_f5ff2311d7fc47cfb9cac1f940c57453",
            "value": ""
          }
        },
        "1576a16376864494a11853d2306783d2": {
          "model_module": "@jupyter-widgets/base",
          "model_name": "LayoutModel",
          "model_module_version": "1.2.0",
          "state": {
            "_model_module": "@jupyter-widgets/base",
            "_model_module_version": "1.2.0",
            "_model_name": "LayoutModel",
            "_view_count": null,
            "_view_module": "@jupyter-widgets/base",
            "_view_module_version": "1.2.0",
            "_view_name": "LayoutView",
            "align_content": null,
            "align_items": null,
            "align_self": null,
            "border": null,
            "bottom": null,
            "display": null,
            "flex": null,
            "flex_flow": null,
            "grid_area": null,
            "grid_auto_columns": null,
            "grid_auto_flow": null,
            "grid_auto_rows": null,
            "grid_column": null,
            "grid_gap": null,
            "grid_row": null,
            "grid_template_areas": null,
            "grid_template_columns": null,
            "grid_template_rows": null,
            "height": null,
            "justify_content": null,
            "justify_items": null,
            "left": null,
            "margin": null,
            "max_height": null,
            "max_width": null,
            "min_height": null,
            "min_width": null,
            "object_fit": null,
            "object_position": null,
            "order": null,
            "overflow": null,
            "overflow_x": null,
            "overflow_y": null,
            "padding": null,
            "right": null,
            "top": null,
            "visibility": null,
            "width": null
          }
        },
        "f5ff2311d7fc47cfb9cac1f940c57453": {
          "model_module": "@jupyter-widgets/controls",
          "model_name": "DescriptionStyleModel",
          "model_module_version": "1.5.0",
          "state": {
            "_model_module": "@jupyter-widgets/controls",
            "_model_module_version": "1.5.0",
            "_model_name": "DescriptionStyleModel",
            "_view_count": null,
            "_view_module": "@jupyter-widgets/base",
            "_view_module_version": "1.2.0",
            "_view_name": "StyleView",
            "description_width": ""
          }
        },
        "9068151a2e6d4dbfa504e7a8634c72b7": {
          "model_module": "@jupyter-widgets/controls",
          "model_name": "ButtonModel",
          "model_module_version": "1.5.0",
          "state": {
            "_dom_classes": [],
            "_model_module": "@jupyter-widgets/controls",
            "_model_module_version": "1.5.0",
            "_model_name": "ButtonModel",
            "_view_count": null,
            "_view_module": "@jupyter-widgets/controls",
            "_view_module_version": "1.5.0",
            "_view_name": "ButtonView",
            "button_style": "",
            "description": "Show Map",
            "disabled": false,
            "icon": "",
            "layout": "IPY_MODEL_b132fcd8dee34c66b075c4e5afc1ce60",
            "style": "IPY_MODEL_3fa85f42b3d245559f025710c3173696",
            "tooltip": ""
          }
        },
        "b132fcd8dee34c66b075c4e5afc1ce60": {
          "model_module": "@jupyter-widgets/base",
          "model_name": "LayoutModel",
          "model_module_version": "1.2.0",
          "state": {
            "_model_module": "@jupyter-widgets/base",
            "_model_module_version": "1.2.0",
            "_model_name": "LayoutModel",
            "_view_count": null,
            "_view_module": "@jupyter-widgets/base",
            "_view_module_version": "1.2.0",
            "_view_name": "LayoutView",
            "align_content": null,
            "align_items": null,
            "align_self": null,
            "border": null,
            "bottom": null,
            "display": null,
            "flex": null,
            "flex_flow": null,
            "grid_area": null,
            "grid_auto_columns": null,
            "grid_auto_flow": null,
            "grid_auto_rows": null,
            "grid_column": null,
            "grid_gap": null,
            "grid_row": null,
            "grid_template_areas": null,
            "grid_template_columns": null,
            "grid_template_rows": null,
            "height": null,
            "justify_content": null,
            "justify_items": null,
            "left": null,
            "margin": null,
            "max_height": null,
            "max_width": null,
            "min_height": null,
            "min_width": null,
            "object_fit": null,
            "object_position": null,
            "order": null,
            "overflow": null,
            "overflow_x": null,
            "overflow_y": null,
            "padding": null,
            "right": null,
            "top": null,
            "visibility": null,
            "width": null
          }
        },
        "3fa85f42b3d245559f025710c3173696": {
          "model_module": "@jupyter-widgets/controls",
          "model_name": "ButtonStyleModel",
          "model_module_version": "1.5.0",
          "state": {
            "_model_module": "@jupyter-widgets/controls",
            "_model_module_version": "1.5.0",
            "_model_name": "ButtonStyleModel",
            "_view_count": null,
            "_view_module": "@jupyter-widgets/base",
            "_view_module_version": "1.2.0",
            "_view_name": "StyleView",
            "button_color": null,
            "font_weight": ""
          }
        },
        "11b425c2d3ca4beca7c82417fff734ee": {
          "model_module": "jupyter-leaflet",
          "model_name": "LeafletMapModel",
          "model_module_version": "^0.18",
          "state": {
            "_dom_classes": [],
            "_model_module": "jupyter-leaflet",
            "_model_module_version": "^0.18",
            "_model_name": "LeafletMapModel",
            "_view_count": null,
            "_view_module": "jupyter-leaflet",
            "_view_module_version": "^0.18",
            "_view_name": "LeafletMapView",
            "bottom": 461352,
            "bounce_at_zoom_limits": true,
            "box_zoom": true,
            "center": [
              21.17672864097083,
              79.06173706054689
            ],
            "close_popup_on_click": true,
            "controls": [
              "IPY_MODEL_8c6dc1eb00ef434088c11c890baccca0",
              "IPY_MODEL_e4b21b3e745948e1a21da2362db36423"
            ],
            "crs": {
              "name": "EPSG3857",
              "custom": false
            },
            "default_style": "IPY_MODEL_df2f14d6bf8147a5a435a81834add445",
            "double_click_zoom": true,
            "dragging": true,
            "dragging_style": "IPY_MODEL_407e9aad089f4d36a98320b32808982c",
            "east": 79.27425384521486,
            "fullscreen": false,
            "inertia": true,
            "inertia_deceleration": 3000,
            "inertia_max_speed": 1500,
            "interpolation": "bilinear",
            "keyboard": true,
            "keyboard_pan_offset": 80,
            "keyboard_zoom_offset": 1,
            "layers": [
              "IPY_MODEL_4af6e2c4068c4cdca58cc2577cde3f2c",
              "IPY_MODEL_88c303ef6f4844678cb2f002501c7e11",
              "IPY_MODEL_1b5c098725e3410fbc45c1bb2fbfa5e7",
              "IPY_MODEL_9175236371f04ba3ac65294736473dee",
              "IPY_MODEL_87f80424ff3c4b0fac39969f50291569"
            ],
            "layout": "IPY_MODEL_b677c4fd1fcb4c2cb56ec62aad833af2",
            "left": 753953,
            "max_zoom": null,
            "min_zoom": null,
            "modisdate": "2023-12-05",
            "north": 21.24074244508678,
            "options": [
              "bounce_at_zoom_limits",
              "box_zoom",
              "center",
              "close_popup_on_click",
              "double_click_zoom",
              "dragging",
              "fullscreen",
              "inertia",
              "inertia_deceleration",
              "inertia_max_speed",
              "interpolation",
              "keyboard",
              "keyboard_pan_offset",
              "keyboard_zoom_offset",
              "max_zoom",
              "min_zoom",
              "prefer_canvas",
              "scroll_wheel_zoom",
              "tap",
              "tap_tolerance",
              "touch_zoom",
              "world_copy_jump",
              "zoom",
              "zoom_animation_threshold",
              "zoom_delta",
              "zoom_snap"
            ],
            "panes": {},
            "prefer_canvas": false,
            "right": 755191,
            "scroll_wheel_zoom": false,
            "south": 21.112687117676757,
            "style": "IPY_MODEL_df2f14d6bf8147a5a435a81834add445",
            "tap": true,
            "tap_tolerance": 15,
            "top": 460952,
            "touch_zoom": true,
            "west": 78.84922027587892,
            "window_url": "https://krpjt0iwpn-496ff2e9c6d22116-0-colab.googleusercontent.com/outputframe.html?vrz=colab_20231204-060134_RC00_587675273",
            "world_copy_jump": false,
            "zoom": 12,
            "zoom_animation_threshold": 4,
            "zoom_delta": 1,
            "zoom_snap": 1
          }
        },
        "8c6dc1eb00ef434088c11c890baccca0": {
          "model_module": "jupyter-leaflet",
          "model_name": "LeafletZoomControlModel",
          "model_module_version": "^0.18",
          "state": {
            "_model_module": "jupyter-leaflet",
            "_model_module_version": "^0.18",
            "_model_name": "LeafletZoomControlModel",
            "_view_count": null,
            "_view_module": "jupyter-leaflet",
            "_view_module_version": "^0.18",
            "_view_name": "LeafletZoomControlView",
            "options": [
              "position",
              "zoom_in_text",
              "zoom_in_title",
              "zoom_out_text",
              "zoom_out_title"
            ],
            "position": "topleft",
            "zoom_in_text": "+",
            "zoom_in_title": "Zoom in",
            "zoom_out_text": "-",
            "zoom_out_title": "Zoom out"
          }
        },
        "e4b21b3e745948e1a21da2362db36423": {
          "model_module": "jupyter-leaflet",
          "model_name": "LeafletAttributionControlModel",
          "model_module_version": "^0.18",
          "state": {
            "_model_module": "jupyter-leaflet",
            "_model_module_version": "^0.18",
            "_model_name": "LeafletAttributionControlModel",
            "_view_count": null,
            "_view_module": "jupyter-leaflet",
            "_view_module_version": "^0.18",
            "_view_name": "LeafletAttributionControlView",
            "options": [
              "position",
              "prefix"
            ],
            "position": "bottomright",
            "prefix": "ipyleaflet"
          }
        },
        "df2f14d6bf8147a5a435a81834add445": {
          "model_module": "jupyter-leaflet",
          "model_name": "LeafletMapStyleModel",
          "model_module_version": "^0.18",
          "state": {
            "_model_module": "jupyter-leaflet",
            "_model_module_version": "^0.18",
            "_model_name": "LeafletMapStyleModel",
            "_view_count": null,
            "_view_module": "@jupyter-widgets/base",
            "_view_module_version": "1.2.0",
            "_view_name": "StyleView",
            "cursor": "grab"
          }
        },
        "407e9aad089f4d36a98320b32808982c": {
          "model_module": "jupyter-leaflet",
          "model_name": "LeafletMapStyleModel",
          "model_module_version": "^0.18",
          "state": {
            "_model_module": "jupyter-leaflet",
            "_model_module_version": "^0.18",
            "_model_name": "LeafletMapStyleModel",
            "_view_count": null,
            "_view_module": "@jupyter-widgets/base",
            "_view_module_version": "1.2.0",
            "_view_name": "StyleView",
            "cursor": "move"
          }
        },
        "4af6e2c4068c4cdca58cc2577cde3f2c": {
          "model_module": "jupyter-leaflet",
          "model_name": "LeafletTileLayerModel",
          "model_module_version": "^0.18",
          "state": {
            "_model_module": "jupyter-leaflet",
            "_model_module_version": "^0.18",
            "_model_name": "LeafletTileLayerModel",
            "_view_count": null,
            "_view_module": "jupyter-leaflet",
            "_view_module_version": "^0.18",
            "_view_name": "LeafletTileLayerView",
            "attribution": "&copy; <a href=\"https://www.openstreetmap.org/copyright\">OpenStreetMap</a> contributors",
            "base": true,
            "bottom": true,
            "bounds": null,
            "detect_retina": false,
            "loading": false,
            "max_native_zoom": null,
            "max_zoom": 19,
            "min_native_zoom": null,
            "min_zoom": 1,
            "name": "OpenStreetMap.Mapnik",
            "no_wrap": false,
            "opacity": 1,
            "options": [
              "attribution",
              "bounds",
              "detect_retina",
              "max_native_zoom",
              "max_zoom",
              "min_native_zoom",
              "min_zoom",
              "no_wrap",
              "tile_size",
              "tms",
              "zoom_offset"
            ],
            "pane": "",
            "popup": null,
            "popup_max_height": null,
            "popup_max_width": 300,
            "popup_min_width": 50,
            "show_loading": false,
            "subitems": [],
            "tile_size": 256,
            "tms": false,
            "url": "https://tile.openstreetmap.org/{z}/{x}/{y}.png",
            "visible": true,
            "zoom_offset": 0
          }
        },
        "88c303ef6f4844678cb2f002501c7e11": {
          "model_module": "jupyter-leaflet",
          "model_name": "LeafletMarkerModel",
          "model_module_version": "^0.18",
          "state": {
            "_model_module": "jupyter-leaflet",
            "_model_module_version": "^0.18",
            "_model_name": "LeafletMarkerModel",
            "_view_count": null,
            "_view_module": "jupyter-leaflet",
            "_view_module_version": "^0.18",
            "_view_name": "LeafletMarkerView",
            "alt": "",
            "base": false,
            "bottom": false,
            "draggable": true,
            "icon": null,
            "keyboard": true,
            "location": [
              21.1858,
              79.0795
            ],
            "name": "",
            "opacity": 1,
            "options": [
              "alt",
              "draggable",
              "keyboard",
              "rise_offset",
              "rise_on_hover",
              "rotation_angle",
              "rotation_origin",
              "title",
              "z_index_offset"
            ],
            "pane": "",
            "popup": null,
            "popup_max_height": null,
            "popup_max_width": 300,
            "popup_min_width": 50,
            "rise_offset": 250,
            "rise_on_hover": false,
            "rotation_angle": 0,
            "rotation_origin": "",
            "subitems": [],
            "title": "Alexis Multispeciality Hospital",
            "visible": true,
            "z_index_offset": 0
          }
        },
        "1b5c098725e3410fbc45c1bb2fbfa5e7": {
          "model_module": "jupyter-leaflet",
          "model_name": "LeafletMarkerModel",
          "model_module_version": "^0.18",
          "state": {
            "_model_module": "jupyter-leaflet",
            "_model_module_version": "^0.18",
            "_model_name": "LeafletMarkerModel",
            "_view_count": null,
            "_view_module": "jupyter-leaflet",
            "_view_module_version": "^0.18",
            "_view_name": "LeafletMarkerView",
            "alt": "",
            "base": false,
            "bottom": false,
            "draggable": true,
            "icon": null,
            "keyboard": true,
            "location": [
              21.15762,
              79.08241
            ],
            "name": "",
            "opacity": 1,
            "options": [
              "alt",
              "draggable",
              "keyboard",
              "rise_offset",
              "rise_on_hover",
              "rotation_angle",
              "rotation_origin",
              "title",
              "z_index_offset"
            ],
            "pane": "",
            "popup": null,
            "popup_max_height": null,
            "popup_max_width": 300,
            "popup_min_width": 50,
            "rise_offset": 250,
            "rise_on_hover": false,
            "rotation_angle": 0,
            "rotation_origin": "",
            "subitems": [],
            "title": "VIMS Hospital",
            "visible": true,
            "z_index_offset": 0
          }
        },
        "9175236371f04ba3ac65294736473dee": {
          "model_module": "jupyter-leaflet",
          "model_name": "LeafletMarkerModel",
          "model_module_version": "^0.18",
          "state": {
            "_model_module": "jupyter-leaflet",
            "_model_module_version": "^0.18",
            "_model_name": "LeafletMarkerModel",
            "_view_count": null,
            "_view_module": "jupyter-leaflet",
            "_view_module_version": "^0.18",
            "_view_name": "LeafletMarkerView",
            "alt": "",
            "base": false,
            "bottom": false,
            "draggable": true,
            "icon": null,
            "keyboard": true,
            "location": [
              21.170278,
              79.066586
            ],
            "name": "",
            "opacity": 1,
            "options": [
              "alt",
              "draggable",
              "keyboard",
              "rise_offset",
              "rise_on_hover",
              "rotation_angle",
              "rotation_origin",
              "title",
              "z_index_offset"
            ],
            "pane": "",
            "popup": null,
            "popup_max_height": null,
            "popup_max_width": 300,
            "popup_min_width": 50,
            "rise_offset": 250,
            "rise_on_hover": false,
            "rotation_angle": 0,
            "rotation_origin": "",
            "subitems": [],
            "title": "Central Govt Health Scheme",
            "visible": true,
            "z_index_offset": 0
          }
        },
        "87f80424ff3c4b0fac39969f50291569": {
          "model_module": "jupyter-leaflet",
          "model_name": "LeafletMarkerModel",
          "model_module_version": "^0.18",
          "state": {
            "_model_module": "jupyter-leaflet",
            "_model_module_version": "^0.18",
            "_model_name": "LeafletMarkerModel",
            "_view_count": null,
            "_view_module": "jupyter-leaflet",
            "_view_module_version": "^0.18",
            "_view_name": "LeafletMarkerView",
            "alt": "",
            "base": false,
            "bottom": false,
            "draggable": true,
            "icon": null,
            "keyboard": true,
            "location": [
              21.18361,
              79.07919
            ],
            "name": "",
            "opacity": 1,
            "options": [
              "alt",
              "draggable",
              "keyboard",
              "rise_offset",
              "rise_on_hover",
              "rotation_angle",
              "rotation_origin",
              "title",
              "z_index_offset"
            ],
            "pane": "",
            "popup": null,
            "popup_max_height": null,
            "popup_max_width": 300,
            "popup_min_width": 50,
            "rise_offset": 250,
            "rise_on_hover": false,
            "rotation_angle": 0,
            "rotation_origin": "",
            "subitems": [],
            "title": "Kunal Hospital",
            "visible": true,
            "z_index_offset": 0
          }
        },
        "b677c4fd1fcb4c2cb56ec62aad833af2": {
          "model_module": "@jupyter-widgets/base",
          "model_name": "LayoutModel",
          "model_module_version": "1.2.0",
          "state": {
            "_model_module": "@jupyter-widgets/base",
            "_model_module_version": "1.2.0",
            "_model_name": "LayoutModel",
            "_view_count": null,
            "_view_module": "@jupyter-widgets/base",
            "_view_module_version": "1.2.0",
            "_view_name": "LayoutView",
            "align_content": null,
            "align_items": null,
            "align_self": null,
            "border": null,
            "bottom": null,
            "display": null,
            "flex": null,
            "flex_flow": null,
            "grid_area": null,
            "grid_auto_columns": null,
            "grid_auto_flow": null,
            "grid_auto_rows": null,
            "grid_column": null,
            "grid_gap": null,
            "grid_row": null,
            "grid_template_areas": null,
            "grid_template_columns": null,
            "grid_template_rows": null,
            "height": null,
            "justify_content": null,
            "justify_items": null,
            "left": null,
            "margin": null,
            "max_height": null,
            "max_width": null,
            "min_height": null,
            "min_width": null,
            "object_fit": null,
            "object_position": null,
            "order": null,
            "overflow": null,
            "overflow_x": null,
            "overflow_y": null,
            "padding": null,
            "right": null,
            "top": null,
            "visibility": null,
            "width": null
          }
        },
        "4c6f251c2513403aa77f8fa9ea25da58": {
          "model_module": "jupyter-leaflet",
          "model_name": "LeafletMapStyleModel",
          "model_module_version": "^0.18",
          "state": {
            "_model_module": "jupyter-leaflet",
            "_model_module_version": "^0.18",
            "_model_name": "LeafletMapStyleModel",
            "_view_count": null,
            "_view_module": "@jupyter-widgets/base",
            "_view_module_version": "1.2.0",
            "_view_name": "StyleView",
            "cursor": "grab"
          }
        },
        "d0b047cbf0df451bad77a70f00fe7291": {
          "model_module": "@jupyter-widgets/controls",
          "model_name": "HTMLModel",
          "model_module_version": "1.5.0",
          "state": {
            "_dom_classes": [],
            "_model_module": "@jupyter-widgets/controls",
            "_model_module_version": "1.5.0",
            "_model_name": "HTMLModel",
            "_view_count": null,
            "_view_module": "@jupyter-widgets/controls",
            "_view_module_version": "1.5.0",
            "_view_name": "HTMLView",
            "description": "",
            "description_tooltip": null,
            "layout": "IPY_MODEL_de7910e4fbeb4b02a18beae2da2f11ef",
            "placeholder": "​",
            "style": "IPY_MODEL_b12c7333991f4266976c24a1102e507f",
            "value": "<style>\n    .widget-label {\n        color: #336699;\n        font-weight: bold;\n    }\n    .widget-text {\n        width: 200px;\n        padding: 5px;\n        margin-bottom: 10px;\n    }\n    .widget-dropdown {\n        width: 200px;\n        padding: 5px;\n        margin-bottom: 10px;\n        background-color: #f2f2f2;\n    }\n    .widget-button {\n        padding: 10px 20px;\n        background-color: #336699;\n        color: white;\n        border: none;\n        cursor: pointer;\n    }\n    .widget-button:hover {\n        background-color: #005f8b;\n    }\n</style>"
          }
        },
        "de7910e4fbeb4b02a18beae2da2f11ef": {
          "model_module": "@jupyter-widgets/base",
          "model_name": "LayoutModel",
          "model_module_version": "1.2.0",
          "state": {
            "_model_module": "@jupyter-widgets/base",
            "_model_module_version": "1.2.0",
            "_model_name": "LayoutModel",
            "_view_count": null,
            "_view_module": "@jupyter-widgets/base",
            "_view_module_version": "1.2.0",
            "_view_name": "LayoutView",
            "align_content": null,
            "align_items": null,
            "align_self": null,
            "border": null,
            "bottom": null,
            "display": null,
            "flex": null,
            "flex_flow": null,
            "grid_area": null,
            "grid_auto_columns": null,
            "grid_auto_flow": null,
            "grid_auto_rows": null,
            "grid_column": null,
            "grid_gap": null,
            "grid_row": null,
            "grid_template_areas": null,
            "grid_template_columns": null,
            "grid_template_rows": null,
            "height": null,
            "justify_content": null,
            "justify_items": null,
            "left": null,
            "margin": null,
            "max_height": null,
            "max_width": null,
            "min_height": null,
            "min_width": null,
            "object_fit": null,
            "object_position": null,
            "order": null,
            "overflow": null,
            "overflow_x": null,
            "overflow_y": null,
            "padding": null,
            "right": null,
            "top": null,
            "visibility": null,
            "width": null
          }
        },
        "b12c7333991f4266976c24a1102e507f": {
          "model_module": "@jupyter-widgets/controls",
          "model_name": "DescriptionStyleModel",
          "model_module_version": "1.5.0",
          "state": {
            "_model_module": "@jupyter-widgets/controls",
            "_model_module_version": "1.5.0",
            "_model_name": "DescriptionStyleModel",
            "_view_count": null,
            "_view_module": "@jupyter-widgets/base",
            "_view_module_version": "1.2.0",
            "_view_name": "StyleView",
            "description_width": ""
          }
        },
        "bffccc211f8745edb5bc846ba1e5b914": {
          "model_module": "@jupyter-widgets/controls",
          "model_name": "FloatTextModel",
          "model_module_version": "1.5.0",
          "state": {
            "_dom_classes": [],
            "_model_module": "@jupyter-widgets/controls",
            "_model_module_version": "1.5.0",
            "_model_name": "FloatTextModel",
            "_view_count": null,
            "_view_module": "@jupyter-widgets/controls",
            "_view_module_version": "1.5.0",
            "_view_name": "FloatTextView",
            "continuous_update": false,
            "description": "Latitude:",
            "description_tooltip": null,
            "disabled": false,
            "layout": "IPY_MODEL_cb3b538e30e7415a80de5eadbda2e102",
            "step": null,
            "style": "IPY_MODEL_2c3723acde0a4439988d06c1a55ce198",
            "value": 21.1766
          }
        },
        "cb3b538e30e7415a80de5eadbda2e102": {
          "model_module": "@jupyter-widgets/base",
          "model_name": "LayoutModel",
          "model_module_version": "1.2.0",
          "state": {
            "_model_module": "@jupyter-widgets/base",
            "_model_module_version": "1.2.0",
            "_model_name": "LayoutModel",
            "_view_count": null,
            "_view_module": "@jupyter-widgets/base",
            "_view_module_version": "1.2.0",
            "_view_name": "LayoutView",
            "align_content": null,
            "align_items": null,
            "align_self": null,
            "border": null,
            "bottom": null,
            "display": null,
            "flex": null,
            "flex_flow": null,
            "grid_area": null,
            "grid_auto_columns": null,
            "grid_auto_flow": null,
            "grid_auto_rows": null,
            "grid_column": null,
            "grid_gap": null,
            "grid_row": null,
            "grid_template_areas": null,
            "grid_template_columns": null,
            "grid_template_rows": null,
            "height": null,
            "justify_content": null,
            "justify_items": null,
            "left": null,
            "margin": null,
            "max_height": null,
            "max_width": null,
            "min_height": null,
            "min_width": null,
            "object_fit": null,
            "object_position": null,
            "order": null,
            "overflow": null,
            "overflow_x": null,
            "overflow_y": null,
            "padding": null,
            "right": null,
            "top": null,
            "visibility": null,
            "width": null
          }
        },
        "2c3723acde0a4439988d06c1a55ce198": {
          "model_module": "@jupyter-widgets/controls",
          "model_name": "DescriptionStyleModel",
          "model_module_version": "1.5.0",
          "state": {
            "_model_module": "@jupyter-widgets/controls",
            "_model_module_version": "1.5.0",
            "_model_name": "DescriptionStyleModel",
            "_view_count": null,
            "_view_module": "@jupyter-widgets/base",
            "_view_module_version": "1.2.0",
            "_view_name": "StyleView",
            "description_width": "initial"
          }
        },
        "81c7ceee44504d27b6aec1a48f6340dd": {
          "model_module": "@jupyter-widgets/controls",
          "model_name": "FloatTextModel",
          "model_module_version": "1.5.0",
          "state": {
            "_dom_classes": [],
            "_model_module": "@jupyter-widgets/controls",
            "_model_module_version": "1.5.0",
            "_model_name": "FloatTextModel",
            "_view_count": null,
            "_view_module": "@jupyter-widgets/controls",
            "_view_module_version": "1.5.0",
            "_view_name": "FloatTextView",
            "continuous_update": false,
            "description": "Longitude:",
            "description_tooltip": null,
            "disabled": false,
            "layout": "IPY_MODEL_b3f49427095a423badf962f5abc696cc",
            "step": null,
            "style": "IPY_MODEL_fd292b6224464c5c81000c3b836c04e8",
            "value": 79.0616
          }
        },
        "b3f49427095a423badf962f5abc696cc": {
          "model_module": "@jupyter-widgets/base",
          "model_name": "LayoutModel",
          "model_module_version": "1.2.0",
          "state": {
            "_model_module": "@jupyter-widgets/base",
            "_model_module_version": "1.2.0",
            "_model_name": "LayoutModel",
            "_view_count": null,
            "_view_module": "@jupyter-widgets/base",
            "_view_module_version": "1.2.0",
            "_view_name": "LayoutView",
            "align_content": null,
            "align_items": null,
            "align_self": null,
            "border": null,
            "bottom": null,
            "display": null,
            "flex": null,
            "flex_flow": null,
            "grid_area": null,
            "grid_auto_columns": null,
            "grid_auto_flow": null,
            "grid_auto_rows": null,
            "grid_column": null,
            "grid_gap": null,
            "grid_row": null,
            "grid_template_areas": null,
            "grid_template_columns": null,
            "grid_template_rows": null,
            "height": null,
            "justify_content": null,
            "justify_items": null,
            "left": null,
            "margin": null,
            "max_height": null,
            "max_width": null,
            "min_height": null,
            "min_width": null,
            "object_fit": null,
            "object_position": null,
            "order": null,
            "overflow": null,
            "overflow_x": null,
            "overflow_y": null,
            "padding": null,
            "right": null,
            "top": null,
            "visibility": null,
            "width": null
          }
        },
        "fd292b6224464c5c81000c3b836c04e8": {
          "model_module": "@jupyter-widgets/controls",
          "model_name": "DescriptionStyleModel",
          "model_module_version": "1.5.0",
          "state": {
            "_model_module": "@jupyter-widgets/controls",
            "_model_module_version": "1.5.0",
            "_model_name": "DescriptionStyleModel",
            "_view_count": null,
            "_view_module": "@jupyter-widgets/base",
            "_view_module_version": "1.2.0",
            "_view_name": "StyleView",
            "description_width": "initial"
          }
        },
        "9c0113998856485ba9566eb340b1fbf2": {
          "model_module": "@jupyter-widgets/controls",
          "model_name": "DropdownModel",
          "model_module_version": "1.5.0",
          "state": {
            "_dom_classes": [],
            "_model_module": "@jupyter-widgets/controls",
            "_model_module_version": "1.5.0",
            "_model_name": "DropdownModel",
            "_options_labels": [
              "hospital",
              "petrol_pump",
              "food_place",
              "Bank_Atm"
            ],
            "_view_count": null,
            "_view_module": "@jupyter-widgets/controls",
            "_view_module_version": "1.5.0",
            "_view_name": "DropdownView",
            "description": "Category:",
            "description_tooltip": null,
            "disabled": false,
            "index": 2,
            "layout": "IPY_MODEL_2419cac247d94ae8882583182ced28a9",
            "style": "IPY_MODEL_ee2ba66cacf24b399552d6d2482b2ef9"
          }
        },
        "2419cac247d94ae8882583182ced28a9": {
          "model_module": "@jupyter-widgets/base",
          "model_name": "LayoutModel",
          "model_module_version": "1.2.0",
          "state": {
            "_model_module": "@jupyter-widgets/base",
            "_model_module_version": "1.2.0",
            "_model_name": "LayoutModel",
            "_view_count": null,
            "_view_module": "@jupyter-widgets/base",
            "_view_module_version": "1.2.0",
            "_view_name": "LayoutView",
            "align_content": null,
            "align_items": null,
            "align_self": null,
            "border": null,
            "bottom": null,
            "display": null,
            "flex": null,
            "flex_flow": null,
            "grid_area": null,
            "grid_auto_columns": null,
            "grid_auto_flow": null,
            "grid_auto_rows": null,
            "grid_column": null,
            "grid_gap": null,
            "grid_row": null,
            "grid_template_areas": null,
            "grid_template_columns": null,
            "grid_template_rows": null,
            "height": null,
            "justify_content": null,
            "justify_items": null,
            "left": null,
            "margin": null,
            "max_height": null,
            "max_width": null,
            "min_height": null,
            "min_width": null,
            "object_fit": null,
            "object_position": null,
            "order": null,
            "overflow": null,
            "overflow_x": null,
            "overflow_y": null,
            "padding": null,
            "right": null,
            "top": null,
            "visibility": null,
            "width": null
          }
        },
        "ee2ba66cacf24b399552d6d2482b2ef9": {
          "model_module": "@jupyter-widgets/controls",
          "model_name": "DescriptionStyleModel",
          "model_module_version": "1.5.0",
          "state": {
            "_model_module": "@jupyter-widgets/controls",
            "_model_module_version": "1.5.0",
            "_model_name": "DescriptionStyleModel",
            "_view_count": null,
            "_view_module": "@jupyter-widgets/base",
            "_view_module_version": "1.2.0",
            "_view_name": "StyleView",
            "description_width": "initial"
          }
        },
        "c5fee2b397d2481d84413826472cd201": {
          "model_module": "@jupyter-widgets/controls",
          "model_name": "ButtonModel",
          "model_module_version": "1.5.0",
          "state": {
            "_dom_classes": [],
            "_model_module": "@jupyter-widgets/controls",
            "_model_module_version": "1.5.0",
            "_model_name": "ButtonModel",
            "_view_count": null,
            "_view_module": "@jupyter-widgets/controls",
            "_view_module_version": "1.5.0",
            "_view_name": "ButtonView",
            "button_style": "",
            "description": "Show Map",
            "disabled": false,
            "icon": "",
            "layout": "IPY_MODEL_48f6a0742433411f99e407a0d23e329d",
            "style": "IPY_MODEL_5ac64b0bed5b4332985de40ea7ccd48f",
            "tooltip": ""
          }
        },
        "48f6a0742433411f99e407a0d23e329d": {
          "model_module": "@jupyter-widgets/base",
          "model_name": "LayoutModel",
          "model_module_version": "1.2.0",
          "state": {
            "_model_module": "@jupyter-widgets/base",
            "_model_module_version": "1.2.0",
            "_model_name": "LayoutModel",
            "_view_count": null,
            "_view_module": "@jupyter-widgets/base",
            "_view_module_version": "1.2.0",
            "_view_name": "LayoutView",
            "align_content": null,
            "align_items": null,
            "align_self": null,
            "border": null,
            "bottom": null,
            "display": null,
            "flex": null,
            "flex_flow": null,
            "grid_area": null,
            "grid_auto_columns": null,
            "grid_auto_flow": null,
            "grid_auto_rows": null,
            "grid_column": null,
            "grid_gap": null,
            "grid_row": null,
            "grid_template_areas": null,
            "grid_template_columns": null,
            "grid_template_rows": null,
            "height": null,
            "justify_content": null,
            "justify_items": null,
            "left": null,
            "margin": null,
            "max_height": null,
            "max_width": null,
            "min_height": null,
            "min_width": null,
            "object_fit": null,
            "object_position": null,
            "order": null,
            "overflow": null,
            "overflow_x": null,
            "overflow_y": null,
            "padding": null,
            "right": null,
            "top": null,
            "visibility": null,
            "width": null
          }
        },
        "5ac64b0bed5b4332985de40ea7ccd48f": {
          "model_module": "@jupyter-widgets/controls",
          "model_name": "ButtonStyleModel",
          "model_module_version": "1.5.0",
          "state": {
            "_model_module": "@jupyter-widgets/controls",
            "_model_module_version": "1.5.0",
            "_model_name": "ButtonStyleModel",
            "_view_count": null,
            "_view_module": "@jupyter-widgets/base",
            "_view_module_version": "1.2.0",
            "_view_name": "StyleView",
            "button_color": "#336699",
            "font_weight": ""
          }
        },
        "f58764fe966a4431848c736d23969f35": {
          "model_module": "jupyter-leaflet",
          "model_name": "LeafletMapStyleModel",
          "model_module_version": "^0.18",
          "state": {
            "_model_module": "jupyter-leaflet",
            "_model_module_version": "^0.18",
            "_model_name": "LeafletMapStyleModel",
            "_view_count": null,
            "_view_module": "@jupyter-widgets/base",
            "_view_module_version": "1.2.0",
            "_view_name": "StyleView",
            "cursor": "grab"
          }
        },
        "18c52df5d8d74f5b96325dbf58429a47": {
          "model_module": "jupyter-leaflet",
          "model_name": "LeafletMapStyleModel",
          "model_module_version": "^0.18",
          "state": {
            "_model_module": "jupyter-leaflet",
            "_model_module_version": "^0.18",
            "_model_name": "LeafletMapStyleModel",
            "_view_count": null,
            "_view_module": "@jupyter-widgets/base",
            "_view_module_version": "1.2.0",
            "_view_name": "StyleView",
            "cursor": "move"
          }
        },
        "edb20e91715d48c795fd5ea7bc2eae3b": {
          "model_module": "jupyter-leaflet",
          "model_name": "LeafletTileLayerModel",
          "model_module_version": "^0.18",
          "state": {
            "_model_module": "jupyter-leaflet",
            "_model_module_version": "^0.18",
            "_model_name": "LeafletTileLayerModel",
            "_view_count": null,
            "_view_module": "jupyter-leaflet",
            "_view_module_version": "^0.18",
            "_view_name": "LeafletTileLayerView",
            "attribution": "&copy; <a href=\"https://www.openstreetmap.org/copyright\">OpenStreetMap</a> contributors",
            "base": true,
            "bottom": true,
            "bounds": null,
            "detect_retina": false,
            "loading": false,
            "max_native_zoom": null,
            "max_zoom": 19,
            "min_native_zoom": null,
            "min_zoom": 1,
            "name": "OpenStreetMap.Mapnik",
            "no_wrap": false,
            "opacity": 1,
            "options": [
              "attribution",
              "bounds",
              "detect_retina",
              "max_native_zoom",
              "max_zoom",
              "min_native_zoom",
              "min_zoom",
              "no_wrap",
              "tile_size",
              "tms",
              "zoom_offset"
            ],
            "pane": "",
            "popup": null,
            "popup_max_height": null,
            "popup_max_width": 300,
            "popup_min_width": 50,
            "show_loading": false,
            "subitems": [],
            "tile_size": 256,
            "tms": false,
            "url": "https://tile.openstreetmap.org/{z}/{x}/{y}.png",
            "visible": true,
            "zoom_offset": 0
          }
        },
        "967e767367e94378bcf2696a4e9a7b86": {
          "model_module": "@jupyter-widgets/base",
          "model_name": "LayoutModel",
          "model_module_version": "1.2.0",
          "state": {
            "_model_module": "@jupyter-widgets/base",
            "_model_module_version": "1.2.0",
            "_model_name": "LayoutModel",
            "_view_count": null,
            "_view_module": "@jupyter-widgets/base",
            "_view_module_version": "1.2.0",
            "_view_name": "LayoutView",
            "align_content": null,
            "align_items": null,
            "align_self": null,
            "border": null,
            "bottom": null,
            "display": null,
            "flex": null,
            "flex_flow": null,
            "grid_area": null,
            "grid_auto_columns": null,
            "grid_auto_flow": null,
            "grid_auto_rows": null,
            "grid_column": null,
            "grid_gap": null,
            "grid_row": null,
            "grid_template_areas": null,
            "grid_template_columns": null,
            "grid_template_rows": null,
            "height": null,
            "justify_content": null,
            "justify_items": null,
            "left": null,
            "margin": null,
            "max_height": null,
            "max_width": null,
            "min_height": null,
            "min_width": null,
            "object_fit": null,
            "object_position": null,
            "order": null,
            "overflow": null,
            "overflow_x": null,
            "overflow_y": null,
            "padding": null,
            "right": null,
            "top": null,
            "visibility": null,
            "width": null
          }
        },
        "f9fd4c2fe5f54d4e97830d7bb2ceefb0": {
          "model_module": "jupyter-leaflet",
          "model_name": "LeafletMapStyleModel",
          "model_module_version": "^0.18",
          "state": {
            "_model_module": "jupyter-leaflet",
            "_model_module_version": "^0.18",
            "_model_name": "LeafletMapStyleModel",
            "_view_count": null,
            "_view_module": "@jupyter-widgets/base",
            "_view_module_version": "1.2.0",
            "_view_name": "StyleView",
            "cursor": "grab"
          }
        },
        "875d5839b69e4a7387e33cefd87568a7": {
          "model_module": "jupyter-leaflet",
          "model_name": "LeafletMapModel",
          "model_module_version": "^0.18",
          "state": {
            "_dom_classes": [],
            "_model_module": "jupyter-leaflet",
            "_model_module_version": "^0.18",
            "_model_name": "LeafletMapModel",
            "_view_count": null,
            "_view_module": "jupyter-leaflet",
            "_view_module_version": "^0.18",
            "_view_name": "LeafletMapView",
            "bottom": 461352,
            "bounce_at_zoom_limits": true,
            "box_zoom": true,
            "center": [
              21.17672864097083,
              79.06173706054689
            ],
            "close_popup_on_click": true,
            "controls": [
              "IPY_MODEL_bc6d721a51e641d2929a34b793c34e6d",
              "IPY_MODEL_ffec409708414ce9b43517fcb54629a1"
            ],
            "crs": {
              "name": "EPSG3857",
              "custom": false
            },
            "default_style": "IPY_MODEL_f58764fe966a4431848c736d23969f35",
            "double_click_zoom": true,
            "dragging": true,
            "dragging_style": "IPY_MODEL_18c52df5d8d74f5b96325dbf58429a47",
            "east": 79.27425384521486,
            "fullscreen": false,
            "inertia": true,
            "inertia_deceleration": 3000,
            "inertia_max_speed": 1500,
            "interpolation": "bilinear",
            "keyboard": true,
            "keyboard_pan_offset": 80,
            "keyboard_zoom_offset": 1,
            "layers": [
              "IPY_MODEL_edb20e91715d48c795fd5ea7bc2eae3b",
              "IPY_MODEL_ee16c92d9c504d3686b018dbbcb1e39e",
              "IPY_MODEL_ecf3b05ec5ce4e5eb8c2d7eebaff0527",
              "IPY_MODEL_97d1caad2a434f92849e58fe169cb2dc",
              "IPY_MODEL_7a309a0ab7ba42ceb0a2101b857bef05",
              "IPY_MODEL_269190750bbd4cda92a8b09d589d3f3b"
            ],
            "layout": "IPY_MODEL_967e767367e94378bcf2696a4e9a7b86",
            "left": 753953,
            "max_zoom": null,
            "min_zoom": null,
            "modisdate": "2023-12-05",
            "north": 21.24074244508678,
            "options": [
              "bounce_at_zoom_limits",
              "box_zoom",
              "center",
              "close_popup_on_click",
              "double_click_zoom",
              "dragging",
              "fullscreen",
              "inertia",
              "inertia_deceleration",
              "inertia_max_speed",
              "interpolation",
              "keyboard",
              "keyboard_pan_offset",
              "keyboard_zoom_offset",
              "max_zoom",
              "min_zoom",
              "prefer_canvas",
              "scroll_wheel_zoom",
              "tap",
              "tap_tolerance",
              "touch_zoom",
              "world_copy_jump",
              "zoom",
              "zoom_animation_threshold",
              "zoom_delta",
              "zoom_snap"
            ],
            "panes": {},
            "prefer_canvas": false,
            "right": 755191,
            "scroll_wheel_zoom": false,
            "south": 21.112687117676757,
            "style": "IPY_MODEL_f58764fe966a4431848c736d23969f35",
            "tap": true,
            "tap_tolerance": 15,
            "top": 460952,
            "touch_zoom": true,
            "west": 78.84922027587892,
            "window_url": "https://krpjt0iwpn-496ff2e9c6d22116-0-colab.googleusercontent.com/outputframe.html?vrz=colab_20231204-060134_RC00_587675273",
            "world_copy_jump": false,
            "zoom": 12,
            "zoom_animation_threshold": 4,
            "zoom_delta": 1,
            "zoom_snap": 1
          }
        },
        "bc6d721a51e641d2929a34b793c34e6d": {
          "model_module": "jupyter-leaflet",
          "model_name": "LeafletZoomControlModel",
          "model_module_version": "^0.18",
          "state": {
            "_model_module": "jupyter-leaflet",
            "_model_module_version": "^0.18",
            "_model_name": "LeafletZoomControlModel",
            "_view_count": null,
            "_view_module": "jupyter-leaflet",
            "_view_module_version": "^0.18",
            "_view_name": "LeafletZoomControlView",
            "options": [
              "position",
              "zoom_in_text",
              "zoom_in_title",
              "zoom_out_text",
              "zoom_out_title"
            ],
            "position": "topleft",
            "zoom_in_text": "+",
            "zoom_in_title": "Zoom in",
            "zoom_out_text": "-",
            "zoom_out_title": "Zoom out"
          }
        },
        "ffec409708414ce9b43517fcb54629a1": {
          "model_module": "jupyter-leaflet",
          "model_name": "LeafletAttributionControlModel",
          "model_module_version": "^0.18",
          "state": {
            "_model_module": "jupyter-leaflet",
            "_model_module_version": "^0.18",
            "_model_name": "LeafletAttributionControlModel",
            "_view_count": null,
            "_view_module": "jupyter-leaflet",
            "_view_module_version": "^0.18",
            "_view_name": "LeafletAttributionControlView",
            "options": [
              "position",
              "prefix"
            ],
            "position": "bottomright",
            "prefix": "ipyleaflet"
          }
        },
        "ee16c92d9c504d3686b018dbbcb1e39e": {
          "model_module": "jupyter-leaflet",
          "model_name": "LeafletMarkerModel",
          "model_module_version": "^0.18",
          "state": {
            "_model_module": "jupyter-leaflet",
            "_model_module_version": "^0.18",
            "_model_name": "LeafletMarkerModel",
            "_view_count": null,
            "_view_module": "jupyter-leaflet",
            "_view_module_version": "^0.18",
            "_view_name": "LeafletMarkerView",
            "alt": "",
            "base": false,
            "bottom": false,
            "draggable": true,
            "icon": null,
            "keyboard": true,
            "location": [
              21.1636,
              79.0801
            ],
            "name": "",
            "opacity": 1,
            "options": [
              "alt",
              "draggable",
              "keyboard",
              "rise_offset",
              "rise_on_hover",
              "rotation_angle",
              "rotation_origin",
              "title",
              "z_index_offset"
            ],
            "pane": "",
            "popup": null,
            "popup_max_height": null,
            "popup_max_width": 300,
            "popup_min_width": 50,
            "rise_offset": 250,
            "rise_on_hover": false,
            "rotation_angle": 0,
            "rotation_origin": "",
            "subitems": [],
            "title": "Haldirams",
            "visible": true,
            "z_index_offset": 0
          }
        },
        "ecf3b05ec5ce4e5eb8c2d7eebaff0527": {
          "model_module": "jupyter-leaflet",
          "model_name": "LeafletMarkerModel",
          "model_module_version": "^0.18",
          "state": {
            "_model_module": "jupyter-leaflet",
            "_model_module_version": "^0.18",
            "_model_name": "LeafletMarkerModel",
            "_view_count": null,
            "_view_module": "jupyter-leaflet",
            "_view_module_version": "^0.18",
            "_view_name": "LeafletMarkerView",
            "alt": "",
            "base": false,
            "bottom": false,
            "draggable": true,
            "icon": null,
            "keyboard": true,
            "location": [
              21.171469,
              79.079356
            ],
            "name": "",
            "opacity": 1,
            "options": [
              "alt",
              "draggable",
              "keyboard",
              "rise_offset",
              "rise_on_hover",
              "rotation_angle",
              "rotation_origin",
              "title",
              "z_index_offset"
            ],
            "pane": "",
            "popup": null,
            "popup_max_height": null,
            "popup_max_width": 300,
            "popup_min_width": 50,
            "rise_offset": 250,
            "rise_on_hover": false,
            "rotation_angle": 0,
            "rotation_origin": "",
            "subitems": [],
            "title": "Pizza Hut",
            "visible": true,
            "z_index_offset": 0
          }
        },
        "97d1caad2a434f92849e58fe169cb2dc": {
          "model_module": "jupyter-leaflet",
          "model_name": "LeafletMarkerModel",
          "model_module_version": "^0.18",
          "state": {
            "_model_module": "jupyter-leaflet",
            "_model_module_version": "^0.18",
            "_model_name": "LeafletMarkerModel",
            "_view_count": null,
            "_view_module": "jupyter-leaflet",
            "_view_module_version": "^0.18",
            "_view_name": "LeafletMarkerView",
            "alt": "",
            "base": false,
            "bottom": false,
            "draggable": true,
            "icon": null,
            "keyboard": true,
            "location": [
              21.181126,
              79.046067
            ],
            "name": "",
            "opacity": 1,
            "options": [
              "alt",
              "draggable",
              "keyboard",
              "rise_offset",
              "rise_on_hover",
              "rotation_angle",
              "rotation_origin",
              "title",
              "z_index_offset"
            ],
            "pane": "",
            "popup": null,
            "popup_max_height": null,
            "popup_max_width": 300,
            "popup_min_width": 50,
            "rise_offset": 250,
            "rise_on_hover": false,
            "rotation_angle": 0,
            "rotation_origin": "",
            "subitems": [],
            "title": "Dominos",
            "visible": true,
            "z_index_offset": 0
          }
        },
        "7a309a0ab7ba42ceb0a2101b857bef05": {
          "model_module": "jupyter-leaflet",
          "model_name": "LeafletMarkerModel",
          "model_module_version": "^0.18",
          "state": {
            "_model_module": "jupyter-leaflet",
            "_model_module_version": "^0.18",
            "_model_name": "LeafletMarkerModel",
            "_view_count": null,
            "_view_module": "jupyter-leaflet",
            "_view_module_version": "^0.18",
            "_view_name": "LeafletMarkerView",
            "alt": "",
            "base": false,
            "bottom": false,
            "draggable": true,
            "icon": null,
            "keyboard": true,
            "location": [
              21.164254,
              79.079039
            ],
            "name": "",
            "opacity": 1,
            "options": [
              "alt",
              "draggable",
              "keyboard",
              "rise_offset",
              "rise_on_hover",
              "rotation_angle",
              "rotation_origin",
              "title",
              "z_index_offset"
            ],
            "pane": "",
            "popup": null,
            "popup_max_height": null,
            "popup_max_width": 300,
            "popup_min_width": 50,
            "rise_offset": 250,
            "rise_on_hover": false,
            "rotation_angle": 0,
            "rotation_origin": "",
            "subitems": [],
            "title": "Zero Degrees",
            "visible": true,
            "z_index_offset": 0
          }
        },
        "269190750bbd4cda92a8b09d589d3f3b": {
          "model_module": "jupyter-leaflet",
          "model_name": "LeafletMarkerModel",
          "model_module_version": "^0.18",
          "state": {
            "_model_module": "jupyter-leaflet",
            "_model_module_version": "^0.18",
            "_model_name": "LeafletMarkerModel",
            "_view_count": null,
            "_view_module": "jupyter-leaflet",
            "_view_module_version": "^0.18",
            "_view_name": "LeafletMarkerView",
            "alt": "",
            "base": false,
            "bottom": false,
            "draggable": true,
            "icon": null,
            "keyboard": true,
            "location": [
              21.164946,
              79.079803
            ],
            "name": "",
            "opacity": 1,
            "options": [
              "alt",
              "draggable",
              "keyboard",
              "rise_offset",
              "rise_on_hover",
              "rotation_angle",
              "rotation_origin",
              "title",
              "z_index_offset"
            ],
            "pane": "",
            "popup": null,
            "popup_max_height": null,
            "popup_max_width": 300,
            "popup_min_width": 50,
            "rise_offset": 250,
            "rise_on_hover": false,
            "rotation_angle": 0,
            "rotation_origin": "",
            "subitems": [],
            "title": "Hi Pepper Pizza",
            "visible": true,
            "z_index_offset": 0
          }
        },
        "e5eb91530010405c855a898cb854a0b4": {
          "model_module": "@jupyter-widgets/controls",
          "model_name": "HTMLModel",
          "model_module_version": "1.5.0",
          "state": {
            "_dom_classes": [],
            "_model_module": "@jupyter-widgets/controls",
            "_model_module_version": "1.5.0",
            "_model_name": "HTMLModel",
            "_view_count": null,
            "_view_module": "@jupyter-widgets/controls",
            "_view_module_version": "1.5.0",
            "_view_name": "HTMLView",
            "description": "",
            "description_tooltip": null,
            "layout": "IPY_MODEL_af9e72ff26664980837b940c6dd1881e",
            "placeholder": "​",
            "style": "IPY_MODEL_272e555651a4485bb3187c8891afe600",
            "value": "<style>\n    .widget-label {\n        color: #336699;\n        font-weight: bold;\n    }\n    .widget-text {\n        width: 200px;\n        padding: 5px;\n        margin-bottom: 10px;\n    }\n    .widget-dropdown {\n        width: 200px;\n        padding: 5px;\n        margin-bottom: 10px;\n        background-color: #f2f2f2;\n    }\n    .widget-button {\n        padding: 10px 20px;\n        background-color: #336699;\n        color: white;\n        border: none;\n        cursor: pointer;\n    }\n    .widget-button:hover {\n        background-color: #005f8b;\n    }\n</style>"
          }
        },
        "af9e72ff26664980837b940c6dd1881e": {
          "model_module": "@jupyter-widgets/base",
          "model_name": "LayoutModel",
          "model_module_version": "1.2.0",
          "state": {
            "_model_module": "@jupyter-widgets/base",
            "_model_module_version": "1.2.0",
            "_model_name": "LayoutModel",
            "_view_count": null,
            "_view_module": "@jupyter-widgets/base",
            "_view_module_version": "1.2.0",
            "_view_name": "LayoutView",
            "align_content": null,
            "align_items": null,
            "align_self": null,
            "border": null,
            "bottom": null,
            "display": null,
            "flex": null,
            "flex_flow": null,
            "grid_area": null,
            "grid_auto_columns": null,
            "grid_auto_flow": null,
            "grid_auto_rows": null,
            "grid_column": null,
            "grid_gap": null,
            "grid_row": null,
            "grid_template_areas": null,
            "grid_template_columns": null,
            "grid_template_rows": null,
            "height": null,
            "justify_content": null,
            "justify_items": null,
            "left": null,
            "margin": null,
            "max_height": null,
            "max_width": null,
            "min_height": null,
            "min_width": null,
            "object_fit": null,
            "object_position": null,
            "order": null,
            "overflow": null,
            "overflow_x": null,
            "overflow_y": null,
            "padding": null,
            "right": null,
            "top": null,
            "visibility": null,
            "width": null
          }
        },
        "272e555651a4485bb3187c8891afe600": {
          "model_module": "@jupyter-widgets/controls",
          "model_name": "DescriptionStyleModel",
          "model_module_version": "1.5.0",
          "state": {
            "_model_module": "@jupyter-widgets/controls",
            "_model_module_version": "1.5.0",
            "_model_name": "DescriptionStyleModel",
            "_view_count": null,
            "_view_module": "@jupyter-widgets/base",
            "_view_module_version": "1.2.0",
            "_view_name": "StyleView",
            "description_width": ""
          }
        },
        "be8075912c904f119a421d4639905a30": {
          "model_module": "@jupyter-widgets/controls",
          "model_name": "DropdownModel",
          "model_module_version": "1.5.0",
          "state": {
            "_dom_classes": [],
            "_model_module": "@jupyter-widgets/controls",
            "_model_module_version": "1.5.0",
            "_model_name": "DropdownModel",
            "_options_labels": [
              "hospital",
              "petrol_pump",
              "food_place",
              "Bank_Atm"
            ],
            "_view_count": null,
            "_view_module": "@jupyter-widgets/controls",
            "_view_module_version": "1.5.0",
            "_view_name": "DropdownView",
            "description": "Category:",
            "description_tooltip": null,
            "disabled": false,
            "index": 1,
            "layout": "IPY_MODEL_127d38d5b04142779f27e18dbea69707",
            "style": "IPY_MODEL_988edbb314f1448db8d3b3b50181ec6e"
          }
        },
        "127d38d5b04142779f27e18dbea69707": {
          "model_module": "@jupyter-widgets/base",
          "model_name": "LayoutModel",
          "model_module_version": "1.2.0",
          "state": {
            "_model_module": "@jupyter-widgets/base",
            "_model_module_version": "1.2.0",
            "_model_name": "LayoutModel",
            "_view_count": null,
            "_view_module": "@jupyter-widgets/base",
            "_view_module_version": "1.2.0",
            "_view_name": "LayoutView",
            "align_content": null,
            "align_items": null,
            "align_self": null,
            "border": null,
            "bottom": null,
            "display": null,
            "flex": null,
            "flex_flow": null,
            "grid_area": null,
            "grid_auto_columns": null,
            "grid_auto_flow": null,
            "grid_auto_rows": null,
            "grid_column": null,
            "grid_gap": null,
            "grid_row": null,
            "grid_template_areas": null,
            "grid_template_columns": null,
            "grid_template_rows": null,
            "height": null,
            "justify_content": null,
            "justify_items": null,
            "left": null,
            "margin": null,
            "max_height": null,
            "max_width": null,
            "min_height": null,
            "min_width": null,
            "object_fit": null,
            "object_position": null,
            "order": null,
            "overflow": null,
            "overflow_x": null,
            "overflow_y": null,
            "padding": null,
            "right": null,
            "top": null,
            "visibility": null,
            "width": null
          }
        },
        "988edbb314f1448db8d3b3b50181ec6e": {
          "model_module": "@jupyter-widgets/controls",
          "model_name": "DescriptionStyleModel",
          "model_module_version": "1.5.0",
          "state": {
            "_model_module": "@jupyter-widgets/controls",
            "_model_module_version": "1.5.0",
            "_model_name": "DescriptionStyleModel",
            "_view_count": null,
            "_view_module": "@jupyter-widgets/base",
            "_view_module_version": "1.2.0",
            "_view_name": "StyleView",
            "description_width": "initial"
          }
        },
        "6bfb40843242450aaa2de0b722c73bd0": {
          "model_module": "@jupyter-widgets/controls",
          "model_name": "ButtonModel",
          "model_module_version": "1.5.0",
          "state": {
            "_dom_classes": [],
            "_model_module": "@jupyter-widgets/controls",
            "_model_module_version": "1.5.0",
            "_model_name": "ButtonModel",
            "_view_count": null,
            "_view_module": "@jupyter-widgets/controls",
            "_view_module_version": "1.5.0",
            "_view_name": "ButtonView",
            "button_style": "",
            "description": "Show Map",
            "disabled": false,
            "icon": "",
            "layout": "IPY_MODEL_c67b24459fe243d2b0edb1a8c6c77d57",
            "style": "IPY_MODEL_ad8fd80189314f1d958bd53e9dcc0288",
            "tooltip": ""
          }
        },
        "c67b24459fe243d2b0edb1a8c6c77d57": {
          "model_module": "@jupyter-widgets/base",
          "model_name": "LayoutModel",
          "model_module_version": "1.2.0",
          "state": {
            "_model_module": "@jupyter-widgets/base",
            "_model_module_version": "1.2.0",
            "_model_name": "LayoutModel",
            "_view_count": null,
            "_view_module": "@jupyter-widgets/base",
            "_view_module_version": "1.2.0",
            "_view_name": "LayoutView",
            "align_content": null,
            "align_items": null,
            "align_self": null,
            "border": null,
            "bottom": null,
            "display": null,
            "flex": null,
            "flex_flow": null,
            "grid_area": null,
            "grid_auto_columns": null,
            "grid_auto_flow": null,
            "grid_auto_rows": null,
            "grid_column": null,
            "grid_gap": null,
            "grid_row": null,
            "grid_template_areas": null,
            "grid_template_columns": null,
            "grid_template_rows": null,
            "height": null,
            "justify_content": null,
            "justify_items": null,
            "left": null,
            "margin": null,
            "max_height": null,
            "max_width": null,
            "min_height": null,
            "min_width": null,
            "object_fit": null,
            "object_position": null,
            "order": null,
            "overflow": null,
            "overflow_x": null,
            "overflow_y": null,
            "padding": null,
            "right": null,
            "top": null,
            "visibility": null,
            "width": null
          }
        },
        "ad8fd80189314f1d958bd53e9dcc0288": {
          "model_module": "@jupyter-widgets/controls",
          "model_name": "ButtonStyleModel",
          "model_module_version": "1.5.0",
          "state": {
            "_model_module": "@jupyter-widgets/controls",
            "_model_module_version": "1.5.0",
            "_model_name": "ButtonStyleModel",
            "_view_count": null,
            "_view_module": "@jupyter-widgets/base",
            "_view_module_version": "1.2.0",
            "_view_name": "StyleView",
            "button_color": "#336699",
            "font_weight": ""
          }
        },
        "a3190db495614736aeaf5318603e1b49": {
          "model_module": "jupyter-leaflet",
          "model_name": "LeafletMapModel",
          "model_module_version": "^0.18",
          "state": {
            "_dom_classes": [],
            "_model_module": "jupyter-leaflet",
            "_model_module_version": "^0.18",
            "_model_name": "LeafletMapModel",
            "_view_count": null,
            "_view_module": "jupyter-leaflet",
            "_view_module_version": "^0.18",
            "_view_name": "LeafletMapView",
            "bottom": 423076,
            "bounce_at_zoom_limits": true,
            "box_zoom": true,
            "center": [
              32.85305711806933,
              -79.98733520507814
            ],
            "close_popup_on_click": true,
            "controls": [
              "IPY_MODEL_4231a0068d47432392d50eee53114e97",
              "IPY_MODEL_9cb8ac6d5a5f429bbe56f1e878208c69"
            ],
            "crs": {
              "name": "EPSG3857",
              "custom": false
            },
            "default_style": "IPY_MODEL_2a583c973256415281fd9f9ed8cb937e",
            "double_click_zoom": true,
            "dragging": true,
            "dragging_style": "IPY_MODEL_677b864e45df4bb38cc5fcf3c4acd099",
            "east": -79.77481842041017,
            "fullscreen": false,
            "inertia": true,
            "inertia_deceleration": 3000,
            "inertia_max_speed": 1500,
            "interpolation": "bilinear",
            "keyboard": true,
            "keyboard_pan_offset": 80,
            "keyboard_zoom_offset": 1,
            "layers": [
              "IPY_MODEL_c408c627022d4b22a435a90f5c169a31"
            ],
            "layout": "IPY_MODEL_77b8f44b4280468387286651f42312e2",
            "left": 290689,
            "max_zoom": null,
            "min_zoom": null,
            "modisdate": "2023-12-05",
            "north": 32.91072102090145,
            "options": [
              "bounce_at_zoom_limits",
              "box_zoom",
              "center",
              "close_popup_on_click",
              "double_click_zoom",
              "dragging",
              "fullscreen",
              "inertia",
              "inertia_deceleration",
              "inertia_max_speed",
              "interpolation",
              "keyboard",
              "keyboard_pan_offset",
              "keyboard_zoom_offset",
              "max_zoom",
              "min_zoom",
              "prefer_canvas",
              "scroll_wheel_zoom",
              "tap",
              "tap_tolerance",
              "touch_zoom",
              "world_copy_jump",
              "zoom",
              "zoom_animation_threshold",
              "zoom_delta",
              "zoom_snap"
            ],
            "panes": {},
            "prefer_canvas": false,
            "right": 291927,
            "scroll_wheel_zoom": false,
            "south": 32.795355714148336,
            "style": "IPY_MODEL_2a583c973256415281fd9f9ed8cb937e",
            "tap": true,
            "tap_tolerance": 15,
            "top": 422676,
            "touch_zoom": true,
            "west": -80.19985198974611,
            "window_url": "https://krpjt0iwpn-496ff2e9c6d22116-0-colab.googleusercontent.com/outputframe.html?vrz=colab_20231204-060134_RC00_587675273",
            "world_copy_jump": false,
            "zoom": 12,
            "zoom_animation_threshold": 4,
            "zoom_delta": 1,
            "zoom_snap": 1
          }
        },
        "2a583c973256415281fd9f9ed8cb937e": {
          "model_module": "jupyter-leaflet",
          "model_name": "LeafletMapStyleModel",
          "model_module_version": "^0.18",
          "state": {
            "_model_module": "jupyter-leaflet",
            "_model_module_version": "^0.18",
            "_model_name": "LeafletMapStyleModel",
            "_view_count": null,
            "_view_module": "@jupyter-widgets/base",
            "_view_module_version": "1.2.0",
            "_view_name": "StyleView",
            "cursor": "grab"
          }
        },
        "677b864e45df4bb38cc5fcf3c4acd099": {
          "model_module": "jupyter-leaflet",
          "model_name": "LeafletMapStyleModel",
          "model_module_version": "^0.18",
          "state": {
            "_model_module": "jupyter-leaflet",
            "_model_module_version": "^0.18",
            "_model_name": "LeafletMapStyleModel",
            "_view_count": null,
            "_view_module": "@jupyter-widgets/base",
            "_view_module_version": "1.2.0",
            "_view_name": "StyleView",
            "cursor": "move"
          }
        },
        "c408c627022d4b22a435a90f5c169a31": {
          "model_module": "jupyter-leaflet",
          "model_name": "LeafletTileLayerModel",
          "model_module_version": "^0.18",
          "state": {
            "_model_module": "jupyter-leaflet",
            "_model_module_version": "^0.18",
            "_model_name": "LeafletTileLayerModel",
            "_view_count": null,
            "_view_module": "jupyter-leaflet",
            "_view_module_version": "^0.18",
            "_view_name": "LeafletTileLayerView",
            "attribution": "&copy; <a href=\"https://www.openstreetmap.org/copyright\">OpenStreetMap</a> contributors",
            "base": true,
            "bottom": true,
            "bounds": null,
            "detect_retina": false,
            "loading": false,
            "max_native_zoom": null,
            "max_zoom": 19,
            "min_native_zoom": null,
            "min_zoom": 1,
            "name": "OpenStreetMap.Mapnik",
            "no_wrap": false,
            "opacity": 1,
            "options": [
              "attribution",
              "bounds",
              "detect_retina",
              "max_native_zoom",
              "max_zoom",
              "min_native_zoom",
              "min_zoom",
              "no_wrap",
              "tile_size",
              "tms",
              "zoom_offset"
            ],
            "pane": "",
            "popup": null,
            "popup_max_height": null,
            "popup_max_width": 300,
            "popup_min_width": 50,
            "show_loading": false,
            "subitems": [],
            "tile_size": 256,
            "tms": false,
            "url": "https://tile.openstreetmap.org/{z}/{x}/{y}.png",
            "visible": true,
            "zoom_offset": 0
          }
        },
        "77b8f44b4280468387286651f42312e2": {
          "model_module": "@jupyter-widgets/base",
          "model_name": "LayoutModel",
          "model_module_version": "1.2.0",
          "state": {
            "_model_module": "@jupyter-widgets/base",
            "_model_module_version": "1.2.0",
            "_model_name": "LayoutModel",
            "_view_count": null,
            "_view_module": "@jupyter-widgets/base",
            "_view_module_version": "1.2.0",
            "_view_name": "LayoutView",
            "align_content": null,
            "align_items": null,
            "align_self": null,
            "border": null,
            "bottom": null,
            "display": null,
            "flex": null,
            "flex_flow": null,
            "grid_area": null,
            "grid_auto_columns": null,
            "grid_auto_flow": null,
            "grid_auto_rows": null,
            "grid_column": null,
            "grid_gap": null,
            "grid_row": null,
            "grid_template_areas": null,
            "grid_template_columns": null,
            "grid_template_rows": null,
            "height": null,
            "justify_content": null,
            "justify_items": null,
            "left": null,
            "margin": null,
            "max_height": null,
            "max_width": null,
            "min_height": null,
            "min_width": null,
            "object_fit": null,
            "object_position": null,
            "order": null,
            "overflow": null,
            "overflow_x": null,
            "overflow_y": null,
            "padding": null,
            "right": null,
            "top": null,
            "visibility": null,
            "width": null
          }
        },
        "4acff9d5a8664c8a8c68175a7f4dd166": {
          "model_module": "jupyter-leaflet",
          "model_name": "LeafletMapStyleModel",
          "model_module_version": "^0.18",
          "state": {
            "_model_module": "jupyter-leaflet",
            "_model_module_version": "^0.18",
            "_model_name": "LeafletMapStyleModel",
            "_view_count": null,
            "_view_module": "@jupyter-widgets/base",
            "_view_module_version": "1.2.0",
            "_view_name": "StyleView",
            "cursor": "grab"
          }
        },
        "4231a0068d47432392d50eee53114e97": {
          "model_module": "jupyter-leaflet",
          "model_name": "LeafletZoomControlModel",
          "model_module_version": "^0.18",
          "state": {
            "_model_module": "jupyter-leaflet",
            "_model_module_version": "^0.18",
            "_model_name": "LeafletZoomControlModel",
            "_view_count": null,
            "_view_module": "jupyter-leaflet",
            "_view_module_version": "^0.18",
            "_view_name": "LeafletZoomControlView",
            "options": [
              "position",
              "zoom_in_text",
              "zoom_in_title",
              "zoom_out_text",
              "zoom_out_title"
            ],
            "position": "topleft",
            "zoom_in_text": "+",
            "zoom_in_title": "Zoom in",
            "zoom_out_text": "-",
            "zoom_out_title": "Zoom out"
          }
        },
        "9cb8ac6d5a5f429bbe56f1e878208c69": {
          "model_module": "jupyter-leaflet",
          "model_name": "LeafletAttributionControlModel",
          "model_module_version": "^0.18",
          "state": {
            "_model_module": "jupyter-leaflet",
            "_model_module_version": "^0.18",
            "_model_name": "LeafletAttributionControlModel",
            "_view_count": null,
            "_view_module": "jupyter-leaflet",
            "_view_module_version": "^0.18",
            "_view_name": "LeafletAttributionControlView",
            "options": [
              "position",
              "prefix"
            ],
            "position": "bottomright",
            "prefix": "ipyleaflet"
          }
        },
        "b468ffd5bdd14c5380e2cd60ec2f6d9a": {
          "model_module": "@jupyter-widgets/controls",
          "model_name": "HTMLModel",
          "model_module_version": "1.5.0",
          "state": {
            "_dom_classes": [],
            "_model_module": "@jupyter-widgets/controls",
            "_model_module_version": "1.5.0",
            "_model_name": "HTMLModel",
            "_view_count": null,
            "_view_module": "@jupyter-widgets/controls",
            "_view_module_version": "1.5.0",
            "_view_name": "HTMLView",
            "description": "",
            "description_tooltip": null,
            "layout": "IPY_MODEL_7405b9c57f7a43cfa9374fec502439b2",
            "placeholder": "​",
            "style": "IPY_MODEL_a8898f29af7b4004819dff3e12c238fd",
            "value": "<style>\n    .widget-label {\n        color: #336699;\n        font-weight: bold;\n    }\n    .widget-text {\n        width: 200px;\n        padding: 5px;\n        margin-bottom: 10px;\n    }\n    .widget-dropdown {\n        width: 200px;\n        padding: 5px;\n        margin-bottom: 10px;\n        background-color: #f2f2f2;\n    }\n    .widget-button {\n        padding: 10px 20px;\n        background-color: #336699;\n        color: white;\n        border: none;\n        cursor: pointer;\n    }\n    .widget-button:hover {\n        background-color: #005f8b;\n    }\n</style>"
          }
        },
        "7405b9c57f7a43cfa9374fec502439b2": {
          "model_module": "@jupyter-widgets/base",
          "model_name": "LayoutModel",
          "model_module_version": "1.2.0",
          "state": {
            "_model_module": "@jupyter-widgets/base",
            "_model_module_version": "1.2.0",
            "_model_name": "LayoutModel",
            "_view_count": null,
            "_view_module": "@jupyter-widgets/base",
            "_view_module_version": "1.2.0",
            "_view_name": "LayoutView",
            "align_content": null,
            "align_items": null,
            "align_self": null,
            "border": null,
            "bottom": null,
            "display": null,
            "flex": null,
            "flex_flow": null,
            "grid_area": null,
            "grid_auto_columns": null,
            "grid_auto_flow": null,
            "grid_auto_rows": null,
            "grid_column": null,
            "grid_gap": null,
            "grid_row": null,
            "grid_template_areas": null,
            "grid_template_columns": null,
            "grid_template_rows": null,
            "height": null,
            "justify_content": null,
            "justify_items": null,
            "left": null,
            "margin": null,
            "max_height": null,
            "max_width": null,
            "min_height": null,
            "min_width": null,
            "object_fit": null,
            "object_position": null,
            "order": null,
            "overflow": null,
            "overflow_x": null,
            "overflow_y": null,
            "padding": null,
            "right": null,
            "top": null,
            "visibility": null,
            "width": null
          }
        },
        "a8898f29af7b4004819dff3e12c238fd": {
          "model_module": "@jupyter-widgets/controls",
          "model_name": "DescriptionStyleModel",
          "model_module_version": "1.5.0",
          "state": {
            "_model_module": "@jupyter-widgets/controls",
            "_model_module_version": "1.5.0",
            "_model_name": "DescriptionStyleModel",
            "_view_count": null,
            "_view_module": "@jupyter-widgets/base",
            "_view_module_version": "1.2.0",
            "_view_name": "StyleView",
            "description_width": ""
          }
        },
        "25102fd3ac624c199c823ae0416b70b0": {
          "model_module": "@jupyter-widgets/controls",
          "model_name": "ButtonModel",
          "model_module_version": "1.5.0",
          "state": {
            "_dom_classes": [],
            "_model_module": "@jupyter-widgets/controls",
            "_model_module_version": "1.5.0",
            "_model_name": "ButtonModel",
            "_view_count": null,
            "_view_module": "@jupyter-widgets/controls",
            "_view_module_version": "1.5.0",
            "_view_name": "ButtonView",
            "button_style": "",
            "description": "Show Map",
            "disabled": false,
            "icon": "",
            "layout": "IPY_MODEL_83b0bfae2f8a4ee4804b5c6289073ca1",
            "style": "IPY_MODEL_b11b78ec9b674ae39858d29bd3248cf2",
            "tooltip": ""
          }
        },
        "83b0bfae2f8a4ee4804b5c6289073ca1": {
          "model_module": "@jupyter-widgets/base",
          "model_name": "LayoutModel",
          "model_module_version": "1.2.0",
          "state": {
            "_model_module": "@jupyter-widgets/base",
            "_model_module_version": "1.2.0",
            "_model_name": "LayoutModel",
            "_view_count": null,
            "_view_module": "@jupyter-widgets/base",
            "_view_module_version": "1.2.0",
            "_view_name": "LayoutView",
            "align_content": null,
            "align_items": null,
            "align_self": null,
            "border": null,
            "bottom": null,
            "display": null,
            "flex": null,
            "flex_flow": null,
            "grid_area": null,
            "grid_auto_columns": null,
            "grid_auto_flow": null,
            "grid_auto_rows": null,
            "grid_column": null,
            "grid_gap": null,
            "grid_row": null,
            "grid_template_areas": null,
            "grid_template_columns": null,
            "grid_template_rows": null,
            "height": null,
            "justify_content": null,
            "justify_items": null,
            "left": null,
            "margin": null,
            "max_height": null,
            "max_width": null,
            "min_height": null,
            "min_width": null,
            "object_fit": null,
            "object_position": null,
            "order": null,
            "overflow": null,
            "overflow_x": null,
            "overflow_y": null,
            "padding": null,
            "right": null,
            "top": null,
            "visibility": null,
            "width": null
          }
        },
        "b11b78ec9b674ae39858d29bd3248cf2": {
          "model_module": "@jupyter-widgets/controls",
          "model_name": "ButtonStyleModel",
          "model_module_version": "1.5.0",
          "state": {
            "_model_module": "@jupyter-widgets/controls",
            "_model_module_version": "1.5.0",
            "_model_name": "ButtonStyleModel",
            "_view_count": null,
            "_view_module": "@jupyter-widgets/base",
            "_view_module_version": "1.2.0",
            "_view_name": "StyleView",
            "button_color": "#336699",
            "font_weight": ""
          }
        },
        "83d26b5c71874d19846dfcc1cd19675c": {
          "model_module": "jupyter-leaflet",
          "model_name": "LeafletMapModel",
          "model_module_version": "^0.18",
          "state": {
            "_dom_classes": [],
            "_model_module": "jupyter-leaflet",
            "_model_module_version": "^0.18",
            "_model_name": "LeafletMapModel",
            "_view_count": null,
            "_view_module": "jupyter-leaflet",
            "_view_module_version": "^0.18",
            "_view_name": "LeafletMapView",
            "bottom": 14756168,
            "bounce_at_zoom_limits": true,
            "box_zoom": true,
            "center": [
              21.185692243796037,
              79.07958447933198
            ],
            "close_popup_on_click": true,
            "controls": [
              "IPY_MODEL_ab60a3a95a5446dd9da8b92a765c0842",
              "IPY_MODEL_baf11c0cba3b4b6b9715fbabe7837be7"
            ],
            "crs": {
              "name": "EPSG3857",
              "custom": false
            },
            "default_style": "IPY_MODEL_11d92d605b07432abd83f7cbcdc4c031",
            "double_click_zoom": true,
            "dragging": true,
            "dragging_style": "IPY_MODEL_2481c7b162bd4528b1839524656ea542",
            "east": 79.08704638481142,
            "fullscreen": false,
            "inertia": true,
            "inertia_deceleration": 3000,
            "inertia_max_speed": 1500,
            "interpolation": "bilinear",
            "keyboard": true,
            "keyboard_pan_offset": 80,
            "keyboard_zoom_offset": 1,
            "layers": [
              "IPY_MODEL_0afae3d8e3a1486e914af9d821a43acc",
              "IPY_MODEL_b04189d98e6f44cca782771125724d4e"
            ],
            "layout": "IPY_MODEL_3932a4568de74f889740fa78c4a3c756",
            "left": 24147272,
            "max_zoom": null,
            "min_zoom": null,
            "modisdate": "2023-12-05",
            "north": 21.187692973808733,
            "options": [
              "bounce_at_zoom_limits",
              "box_zoom",
              "center",
              "close_popup_on_click",
              "double_click_zoom",
              "dragging",
              "fullscreen",
              "inertia",
              "inertia_deceleration",
              "inertia_max_speed",
              "interpolation",
              "keyboard",
              "keyboard_pan_offset",
              "keyboard_zoom_offset",
              "max_zoom",
              "min_zoom",
              "prefer_canvas",
              "scroll_wheel_zoom",
              "tap",
              "tap_tolerance",
              "touch_zoom",
              "world_copy_jump",
              "zoom",
              "zoom_animation_threshold",
              "zoom_delta",
              "zoom_snap"
            ],
            "panes": {},
            "prefer_canvas": false,
            "right": 24148663,
            "scroll_wheel_zoom": false,
            "south": 21.18369148670453,
            "style": "IPY_MODEL_11d92d605b07432abd83f7cbcdc4c031",
            "tap": true,
            "tap_tolerance": 15,
            "top": 14755768,
            "touch_zoom": true,
            "west": 79.07212257385255,
            "window_url": "https://krpjt0iwpn-496ff2e9c6d22116-0-colab.googleusercontent.com/outputframe.html?vrz=colab_20231204-060134_RC00_587675273",
            "world_copy_jump": false,
            "zoom": 17,
            "zoom_animation_threshold": 4,
            "zoom_delta": 1,
            "zoom_snap": 1
          }
        },
        "11d92d605b07432abd83f7cbcdc4c031": {
          "model_module": "jupyter-leaflet",
          "model_name": "LeafletMapStyleModel",
          "model_module_version": "^0.18",
          "state": {
            "_model_module": "jupyter-leaflet",
            "_model_module_version": "^0.18",
            "_model_name": "LeafletMapStyleModel",
            "_view_count": null,
            "_view_module": "@jupyter-widgets/base",
            "_view_module_version": "1.2.0",
            "_view_name": "StyleView",
            "cursor": "grab"
          }
        },
        "2481c7b162bd4528b1839524656ea542": {
          "model_module": "jupyter-leaflet",
          "model_name": "LeafletMapStyleModel",
          "model_module_version": "^0.18",
          "state": {
            "_model_module": "jupyter-leaflet",
            "_model_module_version": "^0.18",
            "_model_name": "LeafletMapStyleModel",
            "_view_count": null,
            "_view_module": "@jupyter-widgets/base",
            "_view_module_version": "1.2.0",
            "_view_name": "StyleView",
            "cursor": "move"
          }
        },
        "0afae3d8e3a1486e914af9d821a43acc": {
          "model_module": "jupyter-leaflet",
          "model_name": "LeafletTileLayerModel",
          "model_module_version": "^0.18",
          "state": {
            "_model_module": "jupyter-leaflet",
            "_model_module_version": "^0.18",
            "_model_name": "LeafletTileLayerModel",
            "_view_count": null,
            "_view_module": "jupyter-leaflet",
            "_view_module_version": "^0.18",
            "_view_name": "LeafletTileLayerView",
            "attribution": "&copy; <a href=\"https://www.openstreetmap.org/copyright\">OpenStreetMap</a> contributors",
            "base": true,
            "bottom": true,
            "bounds": null,
            "detect_retina": false,
            "loading": false,
            "max_native_zoom": null,
            "max_zoom": 19,
            "min_native_zoom": null,
            "min_zoom": 1,
            "name": "OpenStreetMap.Mapnik",
            "no_wrap": false,
            "opacity": 1,
            "options": [
              "attribution",
              "bounds",
              "detect_retina",
              "max_native_zoom",
              "max_zoom",
              "min_native_zoom",
              "min_zoom",
              "no_wrap",
              "tile_size",
              "tms",
              "zoom_offset"
            ],
            "pane": "",
            "popup": null,
            "popup_max_height": null,
            "popup_max_width": 300,
            "popup_min_width": 50,
            "show_loading": false,
            "subitems": [],
            "tile_size": 256,
            "tms": false,
            "url": "https://tile.openstreetmap.org/{z}/{x}/{y}.png",
            "visible": true,
            "zoom_offset": 0
          }
        },
        "3932a4568de74f889740fa78c4a3c756": {
          "model_module": "@jupyter-widgets/base",
          "model_name": "LayoutModel",
          "model_module_version": "1.2.0",
          "state": {
            "_model_module": "@jupyter-widgets/base",
            "_model_module_version": "1.2.0",
            "_model_name": "LayoutModel",
            "_view_count": null,
            "_view_module": "@jupyter-widgets/base",
            "_view_module_version": "1.2.0",
            "_view_name": "LayoutView",
            "align_content": null,
            "align_items": null,
            "align_self": null,
            "border": null,
            "bottom": null,
            "display": null,
            "flex": null,
            "flex_flow": null,
            "grid_area": null,
            "grid_auto_columns": null,
            "grid_auto_flow": null,
            "grid_auto_rows": null,
            "grid_column": null,
            "grid_gap": null,
            "grid_row": null,
            "grid_template_areas": null,
            "grid_template_columns": null,
            "grid_template_rows": null,
            "height": null,
            "justify_content": null,
            "justify_items": null,
            "left": null,
            "margin": null,
            "max_height": null,
            "max_width": null,
            "min_height": null,
            "min_width": null,
            "object_fit": null,
            "object_position": null,
            "order": null,
            "overflow": null,
            "overflow_x": null,
            "overflow_y": null,
            "padding": null,
            "right": null,
            "top": null,
            "visibility": null,
            "width": null
          }
        },
        "a6fd28802ddc4ee5abff306a8f1d4918": {
          "model_module": "jupyter-leaflet",
          "model_name": "LeafletMapStyleModel",
          "model_module_version": "^0.18",
          "state": {
            "_model_module": "jupyter-leaflet",
            "_model_module_version": "^0.18",
            "_model_name": "LeafletMapStyleModel",
            "_view_count": null,
            "_view_module": "@jupyter-widgets/base",
            "_view_module_version": "1.2.0",
            "_view_name": "StyleView",
            "cursor": "grab"
          }
        },
        "ab60a3a95a5446dd9da8b92a765c0842": {
          "model_module": "jupyter-leaflet",
          "model_name": "LeafletZoomControlModel",
          "model_module_version": "^0.18",
          "state": {
            "_model_module": "jupyter-leaflet",
            "_model_module_version": "^0.18",
            "_model_name": "LeafletZoomControlModel",
            "_view_count": null,
            "_view_module": "jupyter-leaflet",
            "_view_module_version": "^0.18",
            "_view_name": "LeafletZoomControlView",
            "options": [
              "position",
              "zoom_in_text",
              "zoom_in_title",
              "zoom_out_text",
              "zoom_out_title"
            ],
            "position": "topleft",
            "zoom_in_text": "+",
            "zoom_in_title": "Zoom in",
            "zoom_out_text": "-",
            "zoom_out_title": "Zoom out"
          }
        },
        "baf11c0cba3b4b6b9715fbabe7837be7": {
          "model_module": "jupyter-leaflet",
          "model_name": "LeafletAttributionControlModel",
          "model_module_version": "^0.18",
          "state": {
            "_model_module": "jupyter-leaflet",
            "_model_module_version": "^0.18",
            "_model_name": "LeafletAttributionControlModel",
            "_view_count": null,
            "_view_module": "jupyter-leaflet",
            "_view_module_version": "^0.18",
            "_view_name": "LeafletAttributionControlView",
            "options": [
              "position",
              "prefix"
            ],
            "position": "bottomright",
            "prefix": "ipyleaflet"
          }
        },
        "b04189d98e6f44cca782771125724d4e": {
          "model_module": "jupyter-leaflet",
          "model_name": "LeafletMarkerModel",
          "model_module_version": "^0.18",
          "state": {
            "_model_module": "jupyter-leaflet",
            "_model_module_version": "^0.18",
            "_model_name": "LeafletMarkerModel",
            "_view_count": null,
            "_view_module": "jupyter-leaflet",
            "_view_module_version": "^0.18",
            "_view_name": "LeafletMarkerView",
            "alt": "",
            "base": false,
            "bottom": false,
            "draggable": true,
            "icon": null,
            "keyboard": true,
            "location": [
              21.1858,
              79.0795
            ],
            "name": "",
            "opacity": 1,
            "options": [
              "alt",
              "draggable",
              "keyboard",
              "rise_offset",
              "rise_on_hover",
              "rotation_angle",
              "rotation_origin",
              "title",
              "z_index_offset"
            ],
            "pane": "",
            "popup": null,
            "popup_max_height": null,
            "popup_max_width": 300,
            "popup_min_width": 50,
            "rise_offset": 250,
            "rise_on_hover": false,
            "rotation_angle": 0,
            "rotation_origin": "",
            "subitems": [],
            "title": "",
            "visible": true,
            "z_index_offset": 0
          }
        },
        "ce4aba6718cf490c98b7a179b0902f31": {
          "model_module": "@jupyter-widgets/controls",
          "model_name": "DropdownModel",
          "model_module_version": "1.5.0",
          "state": {
            "_dom_classes": [],
            "_model_module": "@jupyter-widgets/controls",
            "_model_module_version": "1.5.0",
            "_model_name": "DropdownModel",
            "_options_labels": [
              "hospital",
              "petrol_pump",
              "food_place",
              "Bank_Atm"
            ],
            "_view_count": null,
            "_view_module": "@jupyter-widgets/controls",
            "_view_module_version": "1.5.0",
            "_view_name": "DropdownView",
            "description": "Category:",
            "description_tooltip": null,
            "disabled": false,
            "index": 2,
            "layout": "IPY_MODEL_37cf5608c4f04c288f4ac79873087aec",
            "style": "IPY_MODEL_cb79203e15e9411b82d498a25a8add03"
          }
        },
        "37cf5608c4f04c288f4ac79873087aec": {
          "model_module": "@jupyter-widgets/base",
          "model_name": "LayoutModel",
          "model_module_version": "1.2.0",
          "state": {
            "_model_module": "@jupyter-widgets/base",
            "_model_module_version": "1.2.0",
            "_model_name": "LayoutModel",
            "_view_count": null,
            "_view_module": "@jupyter-widgets/base",
            "_view_module_version": "1.2.0",
            "_view_name": "LayoutView",
            "align_content": null,
            "align_items": null,
            "align_self": null,
            "border": null,
            "bottom": null,
            "display": null,
            "flex": null,
            "flex_flow": null,
            "grid_area": null,
            "grid_auto_columns": null,
            "grid_auto_flow": null,
            "grid_auto_rows": null,
            "grid_column": null,
            "grid_gap": null,
            "grid_row": null,
            "grid_template_areas": null,
            "grid_template_columns": null,
            "grid_template_rows": null,
            "height": null,
            "justify_content": null,
            "justify_items": null,
            "left": null,
            "margin": null,
            "max_height": null,
            "max_width": null,
            "min_height": null,
            "min_width": null,
            "object_fit": null,
            "object_position": null,
            "order": null,
            "overflow": null,
            "overflow_x": null,
            "overflow_y": null,
            "padding": null,
            "right": null,
            "top": null,
            "visibility": null,
            "width": null
          }
        },
        "cb79203e15e9411b82d498a25a8add03": {
          "model_module": "@jupyter-widgets/controls",
          "model_name": "DescriptionStyleModel",
          "model_module_version": "1.5.0",
          "state": {
            "_model_module": "@jupyter-widgets/controls",
            "_model_module_version": "1.5.0",
            "_model_name": "DescriptionStyleModel",
            "_view_count": null,
            "_view_module": "@jupyter-widgets/base",
            "_view_module_version": "1.2.0",
            "_view_name": "StyleView",
            "description_width": "initial"
          }
        },
        "2ced34044e044c11b173755af6a937aa": {
          "model_module": "@jupyter-widgets/controls",
          "model_name": "ButtonModel",
          "model_module_version": "1.5.0",
          "state": {
            "_dom_classes": [],
            "_model_module": "@jupyter-widgets/controls",
            "_model_module_version": "1.5.0",
            "_model_name": "ButtonModel",
            "_view_count": null,
            "_view_module": "@jupyter-widgets/controls",
            "_view_module_version": "1.5.0",
            "_view_name": "ButtonView",
            "button_style": "",
            "description": "Show Map",
            "disabled": false,
            "icon": "",
            "layout": "IPY_MODEL_c172336dbd1b4ab0ac65fd07c5411dc2",
            "style": "IPY_MODEL_5b45584bf979442abd0ec1862faffdb9",
            "tooltip": ""
          }
        },
        "c172336dbd1b4ab0ac65fd07c5411dc2": {
          "model_module": "@jupyter-widgets/base",
          "model_name": "LayoutModel",
          "model_module_version": "1.2.0",
          "state": {
            "_model_module": "@jupyter-widgets/base",
            "_model_module_version": "1.2.0",
            "_model_name": "LayoutModel",
            "_view_count": null,
            "_view_module": "@jupyter-widgets/base",
            "_view_module_version": "1.2.0",
            "_view_name": "LayoutView",
            "align_content": null,
            "align_items": null,
            "align_self": null,
            "border": null,
            "bottom": null,
            "display": null,
            "flex": null,
            "flex_flow": null,
            "grid_area": null,
            "grid_auto_columns": null,
            "grid_auto_flow": null,
            "grid_auto_rows": null,
            "grid_column": null,
            "grid_gap": null,
            "grid_row": null,
            "grid_template_areas": null,
            "grid_template_columns": null,
            "grid_template_rows": null,
            "height": null,
            "justify_content": null,
            "justify_items": null,
            "left": null,
            "margin": null,
            "max_height": null,
            "max_width": null,
            "min_height": null,
            "min_width": null,
            "object_fit": null,
            "object_position": null,
            "order": null,
            "overflow": null,
            "overflow_x": null,
            "overflow_y": null,
            "padding": null,
            "right": null,
            "top": null,
            "visibility": null,
            "width": null
          }
        },
        "5b45584bf979442abd0ec1862faffdb9": {
          "model_module": "@jupyter-widgets/controls",
          "model_name": "ButtonStyleModel",
          "model_module_version": "1.5.0",
          "state": {
            "_model_module": "@jupyter-widgets/controls",
            "_model_module_version": "1.5.0",
            "_model_name": "ButtonStyleModel",
            "_view_count": null,
            "_view_module": "@jupyter-widgets/base",
            "_view_module_version": "1.2.0",
            "_view_name": "StyleView",
            "button_color": "#336699",
            "font_weight": ""
          }
        },
        "12cb52cc1c0146ea96daabbef3d588b5": {
          "model_module": "jupyter-leaflet",
          "model_name": "LeafletMapModel",
          "model_module_version": "^0.18",
          "state": {
            "_dom_classes": [],
            "_model_module": "jupyter-leaflet",
            "_model_module_version": "^0.18",
            "_model_name": "LeafletMapModel",
            "_view_count": null,
            "_view_module": "jupyter-leaflet",
            "_view_module_version": "^0.18",
            "_view_name": "LeafletMapView",
            "bottom": 461352,
            "bounce_at_zoom_limits": true,
            "box_zoom": true,
            "center": [
              21.1766,
              79.0616
            ],
            "close_popup_on_click": true,
            "controls": [
              "IPY_MODEL_f3159cb966204638b3e047a1d1beeb64",
              "IPY_MODEL_bee889f9b5384e54a212fd4517da0f5f"
            ],
            "crs": {
              "name": "EPSG3857",
              "custom": false
            },
            "default_style": "IPY_MODEL_9ee9a4527b9149e4a8baaaef2bdb7b02",
            "double_click_zoom": true,
            "dragging": true,
            "dragging_style": "IPY_MODEL_f9209962cd4643bd834204dc72349ec3",
            "east": 79.25296783447267,
            "fullscreen": false,
            "inertia": true,
            "inertia_deceleration": 3000,
            "inertia_max_speed": 1500,
            "interpolation": "bilinear",
            "keyboard": true,
            "keyboard_pan_offset": 80,
            "keyboard_zoom_offset": 1,
            "layers": [
              "IPY_MODEL_e80200e7adfb46c6ae9ad3e6a5cb83c3",
              "IPY_MODEL_01b5b0cd2bb84d25b66ce5b197e4ac71",
              "IPY_MODEL_073ae1cc0ca44e978767c01853416b78",
              "IPY_MODEL_ee9366775890467aad43e821c01baaf6",
              "IPY_MODEL_9dc2d3de7deb4c08bb4d6d068d5e1abc",
              "IPY_MODEL_33931691c20c4b4ab13e76512429d3da"
            ],
            "layout": "IPY_MODEL_53ce6f96e52e4960aa0ab39059f08a16",
            "left": 754014,
            "max_zoom": null,
            "min_zoom": null,
            "modisdate": "2023-12-05",
            "north": 21.24074244508678,
            "options": [
              "bounce_at_zoom_limits",
              "box_zoom",
              "center",
              "close_popup_on_click",
              "double_click_zoom",
              "dragging",
              "fullscreen",
              "inertia",
              "inertia_deceleration",
              "inertia_max_speed",
              "interpolation",
              "keyboard",
              "keyboard_pan_offset",
              "keyboard_zoom_offset",
              "max_zoom",
              "min_zoom",
              "prefer_canvas",
              "scroll_wheel_zoom",
              "tap",
              "tap_tolerance",
              "touch_zoom",
              "world_copy_jump",
              "zoom",
              "zoom_animation_threshold",
              "zoom_delta",
              "zoom_snap"
            ],
            "panes": {},
            "prefer_canvas": false,
            "right": 755129,
            "scroll_wheel_zoom": false,
            "south": 21.112687117676757,
            "style": "IPY_MODEL_7f4bd7da12f545eca41d79f4da4c7037",
            "tap": true,
            "tap_tolerance": 15,
            "top": 460952,
            "touch_zoom": true,
            "west": 78.8701629638672,
            "window_url": "https://krpjt0iwpn-496ff2e9c6d22116-0-colab.googleusercontent.com/outputframe.html?vrz=colab_20231204-060134_RC00_587675273",
            "world_copy_jump": false,
            "zoom": 12,
            "zoom_animation_threshold": 4,
            "zoom_delta": 1,
            "zoom_snap": 1
          }
        },
        "9ee9a4527b9149e4a8baaaef2bdb7b02": {
          "model_module": "jupyter-leaflet",
          "model_name": "LeafletMapStyleModel",
          "model_module_version": "^0.18",
          "state": {
            "_model_module": "jupyter-leaflet",
            "_model_module_version": "^0.18",
            "_model_name": "LeafletMapStyleModel",
            "_view_count": null,
            "_view_module": "@jupyter-widgets/base",
            "_view_module_version": "1.2.0",
            "_view_name": "StyleView",
            "cursor": "grab"
          }
        },
        "f9209962cd4643bd834204dc72349ec3": {
          "model_module": "jupyter-leaflet",
          "model_name": "LeafletMapStyleModel",
          "model_module_version": "^0.18",
          "state": {
            "_model_module": "jupyter-leaflet",
            "_model_module_version": "^0.18",
            "_model_name": "LeafletMapStyleModel",
            "_view_count": null,
            "_view_module": "@jupyter-widgets/base",
            "_view_module_version": "1.2.0",
            "_view_name": "StyleView",
            "cursor": "move"
          }
        },
        "e80200e7adfb46c6ae9ad3e6a5cb83c3": {
          "model_module": "jupyter-leaflet",
          "model_name": "LeafletTileLayerModel",
          "model_module_version": "^0.18",
          "state": {
            "_model_module": "jupyter-leaflet",
            "_model_module_version": "^0.18",
            "_model_name": "LeafletTileLayerModel",
            "_view_count": null,
            "_view_module": "jupyter-leaflet",
            "_view_module_version": "^0.18",
            "_view_name": "LeafletTileLayerView",
            "attribution": "&copy; <a href=\"https://www.openstreetmap.org/copyright\">OpenStreetMap</a> contributors",
            "base": true,
            "bottom": true,
            "bounds": null,
            "detect_retina": false,
            "loading": false,
            "max_native_zoom": null,
            "max_zoom": 19,
            "min_native_zoom": null,
            "min_zoom": 1,
            "name": "OpenStreetMap.Mapnik",
            "no_wrap": false,
            "opacity": 1,
            "options": [
              "attribution",
              "bounds",
              "detect_retina",
              "max_native_zoom",
              "max_zoom",
              "min_native_zoom",
              "min_zoom",
              "no_wrap",
              "tile_size",
              "tms",
              "zoom_offset"
            ],
            "pane": "",
            "popup": null,
            "popup_max_height": null,
            "popup_max_width": 300,
            "popup_min_width": 50,
            "show_loading": false,
            "subitems": [],
            "tile_size": 256,
            "tms": false,
            "url": "https://tile.openstreetmap.org/{z}/{x}/{y}.png",
            "visible": true,
            "zoom_offset": 0
          }
        },
        "53ce6f96e52e4960aa0ab39059f08a16": {
          "model_module": "@jupyter-widgets/base",
          "model_name": "LayoutModel",
          "model_module_version": "1.2.0",
          "state": {
            "_model_module": "@jupyter-widgets/base",
            "_model_module_version": "1.2.0",
            "_model_name": "LayoutModel",
            "_view_count": null,
            "_view_module": "@jupyter-widgets/base",
            "_view_module_version": "1.2.0",
            "_view_name": "LayoutView",
            "align_content": null,
            "align_items": null,
            "align_self": null,
            "border": null,
            "bottom": null,
            "display": null,
            "flex": null,
            "flex_flow": null,
            "grid_area": null,
            "grid_auto_columns": null,
            "grid_auto_flow": null,
            "grid_auto_rows": null,
            "grid_column": null,
            "grid_gap": null,
            "grid_row": null,
            "grid_template_areas": null,
            "grid_template_columns": null,
            "grid_template_rows": null,
            "height": null,
            "justify_content": null,
            "justify_items": null,
            "left": null,
            "margin": null,
            "max_height": null,
            "max_width": null,
            "min_height": null,
            "min_width": null,
            "object_fit": null,
            "object_position": null,
            "order": null,
            "overflow": null,
            "overflow_x": null,
            "overflow_y": null,
            "padding": null,
            "right": null,
            "top": null,
            "visibility": null,
            "width": null
          }
        },
        "7f4bd7da12f545eca41d79f4da4c7037": {
          "model_module": "jupyter-leaflet",
          "model_name": "LeafletMapStyleModel",
          "model_module_version": "^0.18",
          "state": {
            "_model_module": "jupyter-leaflet",
            "_model_module_version": "^0.18",
            "_model_name": "LeafletMapStyleModel",
            "_view_count": null,
            "_view_module": "@jupyter-widgets/base",
            "_view_module_version": "1.2.0",
            "_view_name": "StyleView",
            "cursor": "grab"
          }
        },
        "f3159cb966204638b3e047a1d1beeb64": {
          "model_module": "jupyter-leaflet",
          "model_name": "LeafletZoomControlModel",
          "model_module_version": "^0.18",
          "state": {
            "_model_module": "jupyter-leaflet",
            "_model_module_version": "^0.18",
            "_model_name": "LeafletZoomControlModel",
            "_view_count": null,
            "_view_module": "jupyter-leaflet",
            "_view_module_version": "^0.18",
            "_view_name": "LeafletZoomControlView",
            "options": [
              "position",
              "zoom_in_text",
              "zoom_in_title",
              "zoom_out_text",
              "zoom_out_title"
            ],
            "position": "topleft",
            "zoom_in_text": "+",
            "zoom_in_title": "Zoom in",
            "zoom_out_text": "-",
            "zoom_out_title": "Zoom out"
          }
        },
        "bee889f9b5384e54a212fd4517da0f5f": {
          "model_module": "jupyter-leaflet",
          "model_name": "LeafletAttributionControlModel",
          "model_module_version": "^0.18",
          "state": {
            "_model_module": "jupyter-leaflet",
            "_model_module_version": "^0.18",
            "_model_name": "LeafletAttributionControlModel",
            "_view_count": null,
            "_view_module": "jupyter-leaflet",
            "_view_module_version": "^0.18",
            "_view_name": "LeafletAttributionControlView",
            "options": [
              "position",
              "prefix"
            ],
            "position": "bottomright",
            "prefix": "ipyleaflet"
          }
        },
        "01b5b0cd2bb84d25b66ce5b197e4ac71": {
          "model_module": "jupyter-leaflet",
          "model_name": "LeafletMarkerModel",
          "model_module_version": "^0.18",
          "state": {
            "_model_module": "jupyter-leaflet",
            "_model_module_version": "^0.18",
            "_model_name": "LeafletMarkerModel",
            "_view_count": null,
            "_view_module": "jupyter-leaflet",
            "_view_module_version": "^0.18",
            "_view_name": "LeafletMarkerView",
            "alt": "",
            "base": false,
            "bottom": false,
            "draggable": true,
            "icon": null,
            "keyboard": true,
            "location": [
              21.1636,
              79.0801
            ],
            "name": "",
            "opacity": 1,
            "options": [
              "alt",
              "draggable",
              "keyboard",
              "rise_offset",
              "rise_on_hover",
              "rotation_angle",
              "rotation_origin",
              "title",
              "z_index_offset"
            ],
            "pane": "",
            "popup": null,
            "popup_max_height": null,
            "popup_max_width": 300,
            "popup_min_width": 50,
            "rise_offset": 250,
            "rise_on_hover": false,
            "rotation_angle": 0,
            "rotation_origin": "",
            "subitems": [],
            "title": "Haldirams",
            "visible": true,
            "z_index_offset": 0
          }
        },
        "073ae1cc0ca44e978767c01853416b78": {
          "model_module": "jupyter-leaflet",
          "model_name": "LeafletMarkerModel",
          "model_module_version": "^0.18",
          "state": {
            "_model_module": "jupyter-leaflet",
            "_model_module_version": "^0.18",
            "_model_name": "LeafletMarkerModel",
            "_view_count": null,
            "_view_module": "jupyter-leaflet",
            "_view_module_version": "^0.18",
            "_view_name": "LeafletMarkerView",
            "alt": "",
            "base": false,
            "bottom": false,
            "draggable": true,
            "icon": null,
            "keyboard": true,
            "location": [
              21.171469,
              79.079356
            ],
            "name": "",
            "opacity": 1,
            "options": [
              "alt",
              "draggable",
              "keyboard",
              "rise_offset",
              "rise_on_hover",
              "rotation_angle",
              "rotation_origin",
              "title",
              "z_index_offset"
            ],
            "pane": "",
            "popup": null,
            "popup_max_height": null,
            "popup_max_width": 300,
            "popup_min_width": 50,
            "rise_offset": 250,
            "rise_on_hover": false,
            "rotation_angle": 0,
            "rotation_origin": "",
            "subitems": [],
            "title": "Pizza Hut",
            "visible": true,
            "z_index_offset": 0
          }
        },
        "ee9366775890467aad43e821c01baaf6": {
          "model_module": "jupyter-leaflet",
          "model_name": "LeafletMarkerModel",
          "model_module_version": "^0.18",
          "state": {
            "_model_module": "jupyter-leaflet",
            "_model_module_version": "^0.18",
            "_model_name": "LeafletMarkerModel",
            "_view_count": null,
            "_view_module": "jupyter-leaflet",
            "_view_module_version": "^0.18",
            "_view_name": "LeafletMarkerView",
            "alt": "",
            "base": false,
            "bottom": false,
            "draggable": true,
            "icon": null,
            "keyboard": true,
            "location": [
              21.181126,
              79.046067
            ],
            "name": "",
            "opacity": 1,
            "options": [
              "alt",
              "draggable",
              "keyboard",
              "rise_offset",
              "rise_on_hover",
              "rotation_angle",
              "rotation_origin",
              "title",
              "z_index_offset"
            ],
            "pane": "",
            "popup": null,
            "popup_max_height": null,
            "popup_max_width": 300,
            "popup_min_width": 50,
            "rise_offset": 250,
            "rise_on_hover": false,
            "rotation_angle": 0,
            "rotation_origin": "",
            "subitems": [],
            "title": "Dominos",
            "visible": true,
            "z_index_offset": 0
          }
        },
        "9dc2d3de7deb4c08bb4d6d068d5e1abc": {
          "model_module": "jupyter-leaflet",
          "model_name": "LeafletMarkerModel",
          "model_module_version": "^0.18",
          "state": {
            "_model_module": "jupyter-leaflet",
            "_model_module_version": "^0.18",
            "_model_name": "LeafletMarkerModel",
            "_view_count": null,
            "_view_module": "jupyter-leaflet",
            "_view_module_version": "^0.18",
            "_view_name": "LeafletMarkerView",
            "alt": "",
            "base": false,
            "bottom": false,
            "draggable": true,
            "icon": null,
            "keyboard": true,
            "location": [
              21.164254,
              79.079039
            ],
            "name": "",
            "opacity": 1,
            "options": [
              "alt",
              "draggable",
              "keyboard",
              "rise_offset",
              "rise_on_hover",
              "rotation_angle",
              "rotation_origin",
              "title",
              "z_index_offset"
            ],
            "pane": "",
            "popup": null,
            "popup_max_height": null,
            "popup_max_width": 300,
            "popup_min_width": 50,
            "rise_offset": 250,
            "rise_on_hover": false,
            "rotation_angle": 0,
            "rotation_origin": "",
            "subitems": [],
            "title": "Zero Degrees",
            "visible": true,
            "z_index_offset": 0
          }
        },
        "33931691c20c4b4ab13e76512429d3da": {
          "model_module": "jupyter-leaflet",
          "model_name": "LeafletMarkerModel",
          "model_module_version": "^0.18",
          "state": {
            "_model_module": "jupyter-leaflet",
            "_model_module_version": "^0.18",
            "_model_name": "LeafletMarkerModel",
            "_view_count": null,
            "_view_module": "jupyter-leaflet",
            "_view_module_version": "^0.18",
            "_view_name": "LeafletMarkerView",
            "alt": "",
            "base": false,
            "bottom": false,
            "draggable": true,
            "icon": null,
            "keyboard": true,
            "location": [
              21.164946,
              79.079803
            ],
            "name": "",
            "opacity": 1,
            "options": [
              "alt",
              "draggable",
              "keyboard",
              "rise_offset",
              "rise_on_hover",
              "rotation_angle",
              "rotation_origin",
              "title",
              "z_index_offset"
            ],
            "pane": "",
            "popup": null,
            "popup_max_height": null,
            "popup_max_width": 300,
            "popup_min_width": 50,
            "rise_offset": 250,
            "rise_on_hover": false,
            "rotation_angle": 0,
            "rotation_origin": "",
            "subitems": [],
            "title": "Hi Pepper Pizza",
            "visible": true,
            "z_index_offset": 0
          }
        }
      }
    }
  },
  "cells": [
    {
      "cell_type": "code",
      "execution_count": null,
      "metadata": {
        "colab": {
          "base_uri": "https://localhost:8080/",
          "height": 75
        },
        "id": "Ok47XAmuQxSy",
        "outputId": "34566976-09da-463f-9202-8e5efda6bd90"
      },
      "outputs": [
        {
          "output_type": "display_data",
          "data": {
            "text/plain": [
              "<IPython.core.display.HTML object>"
            ],
            "text/html": [
              "\n",
              "     <input type=\"file\" id=\"files-b11d98c0-1fb0-4d9c-ac51-c80cfdbac369\" name=\"files[]\" multiple disabled\n",
              "        style=\"border:none\" />\n",
              "     <output id=\"result-b11d98c0-1fb0-4d9c-ac51-c80cfdbac369\">\n",
              "      Upload widget is only available when the cell has been executed in the\n",
              "      current browser session. Please rerun this cell to enable.\n",
              "      </output>\n",
              "      <script>// Copyright 2017 Google LLC\n",
              "//\n",
              "// Licensed under the Apache License, Version 2.0 (the \"License\");\n",
              "// you may not use this file except in compliance with the License.\n",
              "// You may obtain a copy of the License at\n",
              "//\n",
              "//      http://www.apache.org/licenses/LICENSE-2.0\n",
              "//\n",
              "// Unless required by applicable law or agreed to in writing, software\n",
              "// distributed under the License is distributed on an \"AS IS\" BASIS,\n",
              "// WITHOUT WARRANTIES OR CONDITIONS OF ANY KIND, either express or implied.\n",
              "// See the License for the specific language governing permissions and\n",
              "// limitations under the License.\n",
              "\n",
              "/**\n",
              " * @fileoverview Helpers for google.colab Python module.\n",
              " */\n",
              "(function(scope) {\n",
              "function span(text, styleAttributes = {}) {\n",
              "  const element = document.createElement('span');\n",
              "  element.textContent = text;\n",
              "  for (const key of Object.keys(styleAttributes)) {\n",
              "    element.style[key] = styleAttributes[key];\n",
              "  }\n",
              "  return element;\n",
              "}\n",
              "\n",
              "// Max number of bytes which will be uploaded at a time.\n",
              "const MAX_PAYLOAD_SIZE = 100 * 1024;\n",
              "\n",
              "function _uploadFiles(inputId, outputId) {\n",
              "  const steps = uploadFilesStep(inputId, outputId);\n",
              "  const outputElement = document.getElementById(outputId);\n",
              "  // Cache steps on the outputElement to make it available for the next call\n",
              "  // to uploadFilesContinue from Python.\n",
              "  outputElement.steps = steps;\n",
              "\n",
              "  return _uploadFilesContinue(outputId);\n",
              "}\n",
              "\n",
              "// This is roughly an async generator (not supported in the browser yet),\n",
              "// where there are multiple asynchronous steps and the Python side is going\n",
              "// to poll for completion of each step.\n",
              "// This uses a Promise to block the python side on completion of each step,\n",
              "// then passes the result of the previous step as the input to the next step.\n",
              "function _uploadFilesContinue(outputId) {\n",
              "  const outputElement = document.getElementById(outputId);\n",
              "  const steps = outputElement.steps;\n",
              "\n",
              "  const next = steps.next(outputElement.lastPromiseValue);\n",
              "  return Promise.resolve(next.value.promise).then((value) => {\n",
              "    // Cache the last promise value to make it available to the next\n",
              "    // step of the generator.\n",
              "    outputElement.lastPromiseValue = value;\n",
              "    return next.value.response;\n",
              "  });\n",
              "}\n",
              "\n",
              "/**\n",
              " * Generator function which is called between each async step of the upload\n",
              " * process.\n",
              " * @param {string} inputId Element ID of the input file picker element.\n",
              " * @param {string} outputId Element ID of the output display.\n",
              " * @return {!Iterable<!Object>} Iterable of next steps.\n",
              " */\n",
              "function* uploadFilesStep(inputId, outputId) {\n",
              "  const inputElement = document.getElementById(inputId);\n",
              "  inputElement.disabled = false;\n",
              "\n",
              "  const outputElement = document.getElementById(outputId);\n",
              "  outputElement.innerHTML = '';\n",
              "\n",
              "  const pickedPromise = new Promise((resolve) => {\n",
              "    inputElement.addEventListener('change', (e) => {\n",
              "      resolve(e.target.files);\n",
              "    });\n",
              "  });\n",
              "\n",
              "  const cancel = document.createElement('button');\n",
              "  inputElement.parentElement.appendChild(cancel);\n",
              "  cancel.textContent = 'Cancel upload';\n",
              "  const cancelPromise = new Promise((resolve) => {\n",
              "    cancel.onclick = () => {\n",
              "      resolve(null);\n",
              "    };\n",
              "  });\n",
              "\n",
              "  // Wait for the user to pick the files.\n",
              "  const files = yield {\n",
              "    promise: Promise.race([pickedPromise, cancelPromise]),\n",
              "    response: {\n",
              "      action: 'starting',\n",
              "    }\n",
              "  };\n",
              "\n",
              "  cancel.remove();\n",
              "\n",
              "  // Disable the input element since further picks are not allowed.\n",
              "  inputElement.disabled = true;\n",
              "\n",
              "  if (!files) {\n",
              "    return {\n",
              "      response: {\n",
              "        action: 'complete',\n",
              "      }\n",
              "    };\n",
              "  }\n",
              "\n",
              "  for (const file of files) {\n",
              "    const li = document.createElement('li');\n",
              "    li.append(span(file.name, {fontWeight: 'bold'}));\n",
              "    li.append(span(\n",
              "        `(${file.type || 'n/a'}) - ${file.size} bytes, ` +\n",
              "        `last modified: ${\n",
              "            file.lastModifiedDate ? file.lastModifiedDate.toLocaleDateString() :\n",
              "                                    'n/a'} - `));\n",
              "    const percent = span('0% done');\n",
              "    li.appendChild(percent);\n",
              "\n",
              "    outputElement.appendChild(li);\n",
              "\n",
              "    const fileDataPromise = new Promise((resolve) => {\n",
              "      const reader = new FileReader();\n",
              "      reader.onload = (e) => {\n",
              "        resolve(e.target.result);\n",
              "      };\n",
              "      reader.readAsArrayBuffer(file);\n",
              "    });\n",
              "    // Wait for the data to be ready.\n",
              "    let fileData = yield {\n",
              "      promise: fileDataPromise,\n",
              "      response: {\n",
              "        action: 'continue',\n",
              "      }\n",
              "    };\n",
              "\n",
              "    // Use a chunked sending to avoid message size limits. See b/62115660.\n",
              "    let position = 0;\n",
              "    do {\n",
              "      const length = Math.min(fileData.byteLength - position, MAX_PAYLOAD_SIZE);\n",
              "      const chunk = new Uint8Array(fileData, position, length);\n",
              "      position += length;\n",
              "\n",
              "      const base64 = btoa(String.fromCharCode.apply(null, chunk));\n",
              "      yield {\n",
              "        response: {\n",
              "          action: 'append',\n",
              "          file: file.name,\n",
              "          data: base64,\n",
              "        },\n",
              "      };\n",
              "\n",
              "      let percentDone = fileData.byteLength === 0 ?\n",
              "          100 :\n",
              "          Math.round((position / fileData.byteLength) * 100);\n",
              "      percent.textContent = `${percentDone}% done`;\n",
              "\n",
              "    } while (position < fileData.byteLength);\n",
              "  }\n",
              "\n",
              "  // All done.\n",
              "  yield {\n",
              "    response: {\n",
              "      action: 'complete',\n",
              "    }\n",
              "  };\n",
              "}\n",
              "\n",
              "scope.google = scope.google || {};\n",
              "scope.google.colab = scope.google.colab || {};\n",
              "scope.google.colab._files = {\n",
              "  _uploadFiles,\n",
              "  _uploadFilesContinue,\n",
              "};\n",
              "})(self);\n",
              "</script> "
            ]
          },
          "metadata": {}
        },
        {
          "output_type": "stream",
          "name": "stdout",
          "text": [
            "Saving location_dataset.csv to location_dataset.csv\n"
          ]
        }
      ],
      "source": [
        "from google.colab import files\n",
        "\n",
        "uploaded = files.upload()"
      ]
    },
    {
      "cell_type": "code",
      "source": [
        "import pandas as pd\n",
        "from geopy.distance import geodesic\n",
        "from ipyleaflet import Map, Marker\n",
        "\n",
        "def load_locations_dataset():\n",
        "    dataset_path = \"location_dataset.csv\"\n",
        "    return pd.read_csv(dataset_path)\n",
        "\n",
        "def filter_locations_by_category(df, category):\n",
        "    return df[df['category'] == category]\n",
        "\n",
        "def get_nearby_locations(user_location, locations_df, radius=5.0):\n",
        "    nearby_locations = []\n",
        "    for index, row in locations_df.iterrows():\n",
        "        location_coords = (row['latitude'], row['longitude'])\n",
        "        distance = geodesic(user_location, location_coords).kilometers\n",
        "        if distance <= radius:\n",
        "            nearby_locations.append({\n",
        "                'name': row['name'],\n",
        "                'category': row['category'],\n",
        "                'latitude': row['latitude'],\n",
        "                'longitude': row['longitude'],\n",
        "                'distance_km': distance\n",
        "            })\n",
        "    return nearby_locations\n",
        "\n",
        "def display_locations_on_map(user_location, locations):\n",
        "    map_center = user_location\n",
        "    m = Map(center=map_center, zoom=12)\n",
        "\n",
        "    for loc in locations:\n",
        "        marker = Marker(location=(loc['latitude'], loc['longitude']), title=loc['name'])\n",
        "        m.add_layer(marker)\n",
        "\n",
        "    display(m)\n",
        "\n",
        "def main():\n",
        "    # Load the locations dataset\n",
        "    locations_df = load_locations_dataset()\n",
        "\n",
        "    # User input for location\n",
        "    user_latitude = float(input(\"Enter your latitude: \"))\n",
        "    user_longitude = float(input(\"Enter your longitude: \"))\n",
        "    user_location = (user_latitude, user_longitude)\n",
        "\n",
        "    # User input for category (hospital, petrol_pump, food_place)\n",
        "    category = input(\"Enter the category (hospital, petrol_pump, food_place): \")\n",
        "\n",
        "    # Filter locations by category\n",
        "    filtered_locations = filter_locations_by_category(locations_df, category)\n",
        "\n",
        "    # Get nearby locations\n",
        "    nearby_locations = get_nearby_locations(user_location, filtered_locations)\n",
        "\n",
        "    # Display nearby locations on map\n",
        "    display_locations_on_map(user_location, nearby_locations)\n",
        "\n",
        "if __name__ == \"__main__\":\n",
        "    main()"
      ],
      "metadata": {
        "colab": {
          "base_uri": "https://localhost:8080/",
          "height": 476,
          "referenced_widgets": [
            "11b425c2d3ca4beca7c82417fff734ee",
            "8c6dc1eb00ef434088c11c890baccca0",
            "e4b21b3e745948e1a21da2362db36423",
            "df2f14d6bf8147a5a435a81834add445",
            "407e9aad089f4d36a98320b32808982c",
            "4af6e2c4068c4cdca58cc2577cde3f2c",
            "88c303ef6f4844678cb2f002501c7e11",
            "1b5c098725e3410fbc45c1bb2fbfa5e7",
            "9175236371f04ba3ac65294736473dee",
            "87f80424ff3c4b0fac39969f50291569",
            "b677c4fd1fcb4c2cb56ec62aad833af2",
            "4c6f251c2513403aa77f8fa9ea25da58"
          ]
        },
        "id": "PrlBNZOXQ6RV",
        "outputId": "f4848adc-97c0-4e25-a7b8-77c6c416ee18"
      },
      "execution_count": null,
      "outputs": [
        {
          "name": "stdout",
          "output_type": "stream",
          "text": [
            "Enter your latitude: 21.1766\n",
            "Enter your longitude: 79.0616\n",
            "Enter the category (hospital, petrol_pump, food_place): hospital\n"
          ]
        },
        {
          "output_type": "display_data",
          "data": {
            "text/plain": [
              "Map(center=[21.1766, 79.0616], controls=(ZoomControl(options=['position', 'zoom_in_text', 'zoom_in_title', 'zo…"
            ],
            "application/vnd.jupyter.widget-view+json": {
              "version_major": 2,
              "version_minor": 0,
              "model_id": "11b425c2d3ca4beca7c82417fff734ee"
            }
          },
          "metadata": {
            "application/vnd.jupyter.widget-view+json": {
              "colab": {
                "custom_widget_manager": {
                  "url": "https://ssl.gstatic.com/colaboratory-static/widgets/colab-cdn-widget-manager/b3e629b1971e1542/manager.min.js"
                }
              }
            }
          }
        }
      ]
    },
    {
      "cell_type": "code",
      "source": [
        "import pandas as pd\n",
        "from geopy.distance import geodesic\n",
        "from ipyleaflet import Map, Marker\n",
        "import ipywidgets as widgets\n",
        "\n",
        "def load_locations_dataset():\n",
        "    dataset_path = \"location_dataset.csv\"  # Replace this with your dataset path\n",
        "    return pd.read_csv(dataset_path)\n",
        "\n",
        "def filter_locations_by_category(df, category):\n",
        "    return df[df['category'] == category]\n",
        "\n",
        "def get_nearby_locations(user_location, locations_df, radius=5.0):\n",
        "    nearby_locations = []\n",
        "    for index, row in locations_df.iterrows():\n",
        "        location_coords = (row['latitude'], row['longitude'])\n",
        "        distance = geodesic(user_location, location_coords).kilometers\n",
        "        if distance <= radius:\n",
        "            nearby_locations.append({\n",
        "                'name': row['name'],\n",
        "                'category': row['category'],\n",
        "                'latitude': row['latitude'],\n",
        "                'longitude': row['longitude'],\n",
        "                'distance_km': distance\n",
        "            })\n",
        "    return nearby_locations\n",
        "\n",
        "def display_locations_on_map(user_location, locations):\n",
        "    map_center = user_location\n",
        "    m = Map(center=map_center, zoom=12)\n",
        "\n",
        "    for loc in locations:\n",
        "        marker = Marker(location=(loc['latitude'], loc['longitude']), title=loc['name'])\n",
        "        m.add_layer(marker)\n",
        "\n",
        "    display(m)\n",
        "\n",
        "# Creating widgets for user input\n",
        "user_latitude = widgets.FloatText(description='Latitude:', value=0)\n",
        "user_longitude = widgets.FloatText(description='Longitude:', value=0)\n",
        "category = widgets.Text(description='Category:')\n",
        "\n",
        "# Displaying widgets\n",
        "display(user_latitude, user_longitude, category)\n",
        "\n",
        "# Load the locations dataset\n",
        "locations_df = load_locations_dataset()\n",
        "\n",
        "def on_button_clicked(b):\n",
        "    # User input values\n",
        "    lat = user_latitude.value\n",
        "    lon = user_longitude.value\n",
        "    cat = category.value\n",
        "\n",
        "    user_location = (lat, lon)\n",
        "\n",
        "    # Filter locations by category\n",
        "    filtered_locations = filter_locations_by_category(locations_df, cat)\n",
        "\n",
        "    # Get nearby locations\n",
        "    nearby_locations = get_nearby_locations(user_location, filtered_locations)\n",
        "\n",
        "    # Display nearby locations on map\n",
        "    display_locations_on_map(user_location, nearby_locations)\n",
        "\n",
        "# Button for triggering the processing\n",
        "button = widgets.Button(description=\"Show Map\")\n",
        "button.on_click(on_button_clicked)\n",
        "display(button)\n"
      ],
      "metadata": {
        "colab": {
          "base_uri": "https://localhost:8080/",
          "height": 142,
          "referenced_widgets": [
            "031f241120f944faa1e9287cc89b10b4",
            "39cf4eb242c049cdb3534a33db917013",
            "2f19dabd081e4d79be6f37e171c6fe37",
            "046b771b4bb240c99b6b6bef80d8ead5",
            "bb6f418a966a4dbbb446009de581c927",
            "fa88fa7e65bf4e11b2bcf6310e77ca46",
            "34a480bcfd844d1e9de42d514554b076",
            "1576a16376864494a11853d2306783d2",
            "f5ff2311d7fc47cfb9cac1f940c57453",
            "9068151a2e6d4dbfa504e7a8634c72b7",
            "b132fcd8dee34c66b075c4e5afc1ce60",
            "3fa85f42b3d245559f025710c3173696"
          ]
        },
        "id": "iMsNXlIARRxI",
        "outputId": "bee3e53f-a32c-47af-90c2-d39d4905a820"
      },
      "execution_count": null,
      "outputs": [
        {
          "output_type": "display_data",
          "data": {
            "text/plain": [
              "FloatText(value=0.0, description='Latitude:')"
            ],
            "application/vnd.jupyter.widget-view+json": {
              "version_major": 2,
              "version_minor": 0,
              "model_id": "031f241120f944faa1e9287cc89b10b4"
            }
          },
          "metadata": {
            "application/vnd.jupyter.widget-view+json": {
              "colab": {
                "custom_widget_manager": {
                  "url": "https://ssl.gstatic.com/colaboratory-static/widgets/colab-cdn-widget-manager/b3e629b1971e1542/manager.min.js"
                }
              }
            }
          }
        },
        {
          "output_type": "display_data",
          "data": {
            "text/plain": [
              "FloatText(value=0.0, description='Longitude:')"
            ],
            "application/vnd.jupyter.widget-view+json": {
              "version_major": 2,
              "version_minor": 0,
              "model_id": "046b771b4bb240c99b6b6bef80d8ead5"
            }
          },
          "metadata": {
            "application/vnd.jupyter.widget-view+json": {
              "colab": {
                "custom_widget_manager": {
                  "url": "https://ssl.gstatic.com/colaboratory-static/widgets/colab-cdn-widget-manager/b3e629b1971e1542/manager.min.js"
                }
              }
            }
          }
        },
        {
          "output_type": "display_data",
          "data": {
            "text/plain": [
              "Text(value='', description='Category:')"
            ],
            "application/vnd.jupyter.widget-view+json": {
              "version_major": 2,
              "version_minor": 0,
              "model_id": "34a480bcfd844d1e9de42d514554b076"
            }
          },
          "metadata": {
            "application/vnd.jupyter.widget-view+json": {
              "colab": {
                "custom_widget_manager": {
                  "url": "https://ssl.gstatic.com/colaboratory-static/widgets/colab-cdn-widget-manager/b3e629b1971e1542/manager.min.js"
                }
              }
            }
          }
        },
        {
          "output_type": "display_data",
          "data": {
            "text/plain": [
              "Button(description='Show Map', style=ButtonStyle())"
            ],
            "application/vnd.jupyter.widget-view+json": {
              "version_major": 2,
              "version_minor": 0,
              "model_id": "9068151a2e6d4dbfa504e7a8634c72b7"
            }
          },
          "metadata": {
            "application/vnd.jupyter.widget-view+json": {
              "colab": {
                "custom_widget_manager": {
                  "url": "https://ssl.gstatic.com/colaboratory-static/widgets/colab-cdn-widget-manager/b3e629b1971e1542/manager.min.js"
                }
              }
            }
          }
        }
      ]
    },
    {
      "cell_type": "code",
      "source": [
        "import pandas as pd\n",
        "from geopy.distance import geodesic\n",
        "from ipyleaflet import Map, Marker\n",
        "import ipywidgets as widgets\n",
        "\n",
        "# Custom CSS for styling\n",
        "custom_css = \"\"\"\n",
        "    .widget-label {\n",
        "        color: #336699;\n",
        "        font-weight: bold;\n",
        "    }\n",
        "    .widget-text {\n",
        "        width: 200px;\n",
        "        padding: 5px;\n",
        "        margin-bottom: 10px;\n",
        "    }\n",
        "    .widget-dropdown {\n",
        "        width: 200px;\n",
        "        padding: 5px;\n",
        "        margin-bottom: 10px;\n",
        "        background-color: #f2f2f2;\n",
        "    }\n",
        "    .widget-button {\n",
        "        padding: 10px 20px;\n",
        "        background-color: #336699;\n",
        "        color: white;\n",
        "        border: none;\n",
        "        cursor: pointer;\n",
        "    }\n",
        "    .widget-button:hover {\n",
        "        background-color: #005f8b;\n",
        "    }\n",
        "\"\"\"\n",
        "\n",
        "def load_locations_dataset():\n",
        "    dataset_path = \"location_dataset.csv\"  # Replace this with your dataset path\n",
        "    return pd.read_csv(dataset_path)\n",
        "\n",
        "def filter_locations_by_category(df, category):\n",
        "    return df[df['category'] == category]\n",
        "\n",
        "def get_nearby_locations(user_location, locations_df, radius=5.0):\n",
        "    nearby_locations = []\n",
        "    for index, row in locations_df.iterrows():\n",
        "        location_coords = (row['latitude'], row['longitude'])\n",
        "        distance = geodesic(user_location, location_coords).kilometers\n",
        "        if distance <= radius:\n",
        "            nearby_locations.append({\n",
        "                'name': row['name'],\n",
        "                'category': row['category'],\n",
        "                'latitude': row['latitude'],\n",
        "                'longitude': row['longitude'],\n",
        "                'distance_km': distance\n",
        "            })\n",
        "    return nearby_locations\n",
        "\n",
        "def display_locations_on_map(user_location, locations):\n",
        "    map_center = user_location\n",
        "    m = Map(center=map_center, zoom=12)\n",
        "\n",
        "    for loc in locations:\n",
        "        marker = Marker(location=(loc['latitude'], loc['longitude']), title=loc['name'])\n",
        "        m.add_layer(marker)\n",
        "\n",
        "    display(m)\n",
        "\n",
        "# Applying custom styles to widgets\n",
        "style = widgets.HTML('<style>' + custom_css + '</style>')\n",
        "display(style)\n",
        "\n",
        "# Creating widgets for user input\n",
        "user_latitude = widgets.FloatText(description='Latitude:', value=0, style={'description_width': 'initial'})\n",
        "user_longitude = widgets.FloatText(description='Longitude:', value=0, style={'description_width': 'initial'})\n",
        "categories = ['hospital', 'petrol_pump', 'food_place','Bank_Atm']  # Example categories\n",
        "category = widgets.Dropdown(description='Category:', options=categories, style={'description_width': 'initial'})\n",
        "\n",
        "# Displaying widgets\n",
        "display(user_latitude, user_longitude, category)\n",
        "\n",
        "# Load the locations dataset\n",
        "locations_df = load_locations_dataset()\n",
        "\n",
        "def on_button_clicked(b):\n",
        "    # User input values\n",
        "    lat = user_latitude.value\n",
        "    lon = user_longitude.value\n",
        "    cat = category.value\n",
        "\n",
        "    user_location = (lat, lon)\n",
        "\n",
        "    # Filter locations by category\n",
        "    filtered_locations = filter_locations_by_category(locations_df, cat)\n",
        "\n",
        "    # Get nearby locations\n",
        "    nearby_locations = get_nearby_locations(user_location, filtered_locations)\n",
        "\n",
        "    # Display nearby locations on map\n",
        "    display_locations_on_map(user_location, nearby_locations)\n",
        "\n",
        "# Button for triggering the processing\n",
        "button = widgets.Button(description=\"Show Map\", style={'button_color': '#336699'})\n",
        "button.on_click(on_button_clicked)\n",
        "display(button)\n",
        "\n"
      ],
      "metadata": {
        "colab": {
          "base_uri": "https://localhost:8080/",
          "height": 593,
          "referenced_widgets": [
            "d0b047cbf0df451bad77a70f00fe7291",
            "de7910e4fbeb4b02a18beae2da2f11ef",
            "b12c7333991f4266976c24a1102e507f",
            "bffccc211f8745edb5bc846ba1e5b914",
            "cb3b538e30e7415a80de5eadbda2e102",
            "2c3723acde0a4439988d06c1a55ce198",
            "81c7ceee44504d27b6aec1a48f6340dd",
            "b3f49427095a423badf962f5abc696cc",
            "fd292b6224464c5c81000c3b836c04e8",
            "9c0113998856485ba9566eb340b1fbf2",
            "2419cac247d94ae8882583182ced28a9",
            "ee2ba66cacf24b399552d6d2482b2ef9",
            "c5fee2b397d2481d84413826472cd201",
            "48f6a0742433411f99e407a0d23e329d",
            "5ac64b0bed5b4332985de40ea7ccd48f",
            "f58764fe966a4431848c736d23969f35",
            "18c52df5d8d74f5b96325dbf58429a47",
            "edb20e91715d48c795fd5ea7bc2eae3b",
            "967e767367e94378bcf2696a4e9a7b86",
            "f9fd4c2fe5f54d4e97830d7bb2ceefb0",
            "875d5839b69e4a7387e33cefd87568a7",
            "bc6d721a51e641d2929a34b793c34e6d",
            "ffec409708414ce9b43517fcb54629a1",
            "ee16c92d9c504d3686b018dbbcb1e39e",
            "ecf3b05ec5ce4e5eb8c2d7eebaff0527",
            "97d1caad2a434f92849e58fe169cb2dc",
            "7a309a0ab7ba42ceb0a2101b857bef05",
            "269190750bbd4cda92a8b09d589d3f3b"
          ]
        },
        "id": "vfoFHRk2TVXq",
        "outputId": "c1dd8994-4ce9-46f5-ee6f-04294edf6bbb"
      },
      "execution_count": null,
      "outputs": [
        {
          "output_type": "display_data",
          "data": {
            "text/plain": [
              "HTML(value='<style>\\n    .widget-label {\\n        color: #336699;\\n        font-weight: bold;\\n    }\\n    .wid…"
            ],
            "application/vnd.jupyter.widget-view+json": {
              "version_major": 2,
              "version_minor": 0,
              "model_id": "d0b047cbf0df451bad77a70f00fe7291"
            }
          },
          "metadata": {
            "application/vnd.jupyter.widget-view+json": {
              "colab": {
                "custom_widget_manager": {
                  "url": "https://ssl.gstatic.com/colaboratory-static/widgets/colab-cdn-widget-manager/b3e629b1971e1542/manager.min.js"
                }
              }
            }
          }
        },
        {
          "output_type": "display_data",
          "data": {
            "text/plain": [
              "FloatText(value=0.0, description='Latitude:', style=DescriptionStyle(description_width='initial'))"
            ],
            "application/vnd.jupyter.widget-view+json": {
              "version_major": 2,
              "version_minor": 0,
              "model_id": "bffccc211f8745edb5bc846ba1e5b914"
            }
          },
          "metadata": {
            "application/vnd.jupyter.widget-view+json": {
              "colab": {
                "custom_widget_manager": {
                  "url": "https://ssl.gstatic.com/colaboratory-static/widgets/colab-cdn-widget-manager/b3e629b1971e1542/manager.min.js"
                }
              }
            }
          }
        },
        {
          "output_type": "display_data",
          "data": {
            "text/plain": [
              "FloatText(value=0.0, description='Longitude:', style=DescriptionStyle(description_width='initial'))"
            ],
            "application/vnd.jupyter.widget-view+json": {
              "version_major": 2,
              "version_minor": 0,
              "model_id": "81c7ceee44504d27b6aec1a48f6340dd"
            }
          },
          "metadata": {
            "application/vnd.jupyter.widget-view+json": {
              "colab": {
                "custom_widget_manager": {
                  "url": "https://ssl.gstatic.com/colaboratory-static/widgets/colab-cdn-widget-manager/b3e629b1971e1542/manager.min.js"
                }
              }
            }
          }
        },
        {
          "output_type": "display_data",
          "data": {
            "text/plain": [
              "Dropdown(description='Category:', options=('hospital', 'petrol_pump', 'food_place', 'Bank_Atm'), style=Descrip…"
            ],
            "application/vnd.jupyter.widget-view+json": {
              "version_major": 2,
              "version_minor": 0,
              "model_id": "9c0113998856485ba9566eb340b1fbf2"
            }
          },
          "metadata": {
            "application/vnd.jupyter.widget-view+json": {
              "colab": {
                "custom_widget_manager": {
                  "url": "https://ssl.gstatic.com/colaboratory-static/widgets/colab-cdn-widget-manager/b3e629b1971e1542/manager.min.js"
                }
              }
            }
          }
        },
        {
          "output_type": "display_data",
          "data": {
            "text/plain": [
              "Button(description='Show Map', style=ButtonStyle(button_color='#336699'))"
            ],
            "application/vnd.jupyter.widget-view+json": {
              "version_major": 2,
              "version_minor": 0,
              "model_id": "c5fee2b397d2481d84413826472cd201"
            }
          },
          "metadata": {
            "application/vnd.jupyter.widget-view+json": {
              "colab": {
                "custom_widget_manager": {
                  "url": "https://ssl.gstatic.com/colaboratory-static/widgets/colab-cdn-widget-manager/b3e629b1971e1542/manager.min.js"
                }
              }
            }
          }
        },
        {
          "output_type": "display_data",
          "data": {
            "text/plain": [
              "Map(center=[21.1766, 79.0616], controls=(ZoomControl(options=['position', 'zoom_in_text', 'zoom_in_title', 'zo…"
            ],
            "application/vnd.jupyter.widget-view+json": {
              "version_major": 2,
              "version_minor": 0,
              "model_id": "875d5839b69e4a7387e33cefd87568a7"
            }
          },
          "metadata": {
            "application/vnd.jupyter.widget-view+json": {
              "colab": {
                "custom_widget_manager": {
                  "url": "https://ssl.gstatic.com/colaboratory-static/widgets/colab-cdn-widget-manager/b3e629b1971e1542/manager.min.js"
                }
              }
            }
          }
        }
      ]
    },
    {
      "cell_type": "code",
      "source": [
        "import pandas as pd\n",
        "from geopy.distance import geodesic\n",
        "from ipyleaflet import Map, Marker\n",
        "import ipywidgets as widgets\n",
        "\n",
        "# Custom CSS for styling\n",
        "custom_css = \"\"\"\n",
        "    /* Custom CSS styles */\n",
        "\"\"\"\n",
        "\n",
        "def load_locations_dataset():\n",
        "    dataset_path = \"location_dataset.csv\"  # Replace this with your dataset path\n",
        "    return pd.read_csv(dataset_path)\n",
        "\n",
        "def filter_locations_by_category(df, category):\n",
        "    return df[df['category'] == category]\n",
        "\n",
        "def get_hospitals(locations_df):\n",
        "    return filter_locations_by_category(locations_df, 'hospital')\n",
        "\n",
        "def display_locations_on_map(locations):\n",
        "    map_center = (0, 0)  # Set default map center (you can modify this)\n",
        "    m = Map(center=map_center, zoom=12)\n",
        "\n",
        "    for loc in locations:\n",
        "        marker = Marker(location=(loc['latitude'], loc['longitude']), title=loc['name'])\n",
        "        m.add_layer(marker)\n",
        "\n",
        "    display(m)\n",
        "\n",
        "# Load the locations dataset\n",
        "locations_df = load_locations_dataset()\n",
        "\n",
        "# Get hospitals from the dataset\n",
        "all_hospitals = get_hospitals(locations_df)\n",
        "\n",
        "def on_button_clicked(b):\n",
        "    # Display all hospitals on map\n",
        "    display_locations_on_map(all_hospitals)\n",
        "\n",
        "# Button for triggering the processing\n",
        "button = widgets.Button(description=\"Show Hospitals on Map\")\n",
        "button.on_click(on_button_clicked)\n",
        "display(button)\n"
      ],
      "metadata": {
        "id": "9oV5dFEiUI19",
        "colab": {
          "base_uri": "https://localhost:8080/",
          "height": 407
        },
        "outputId": "c1f45773-142d-47ff-e672-ea73560dc8c5"
      },
      "execution_count": null,
      "outputs": [
        {
          "output_type": "error",
          "ename": "FileNotFoundError",
          "evalue": "ignored",
          "traceback": [
            "\u001b[0;31m---------------------------------------------------------------------------\u001b[0m",
            "\u001b[0;31mFileNotFoundError\u001b[0m                         Traceback (most recent call last)",
            "\u001b[0;32m<ipython-input-1-6eebc9b23a01>\u001b[0m in \u001b[0;36m<cell line: 32>\u001b[0;34m()\u001b[0m\n\u001b[1;32m     30\u001b[0m \u001b[0;34m\u001b[0m\u001b[0m\n\u001b[1;32m     31\u001b[0m \u001b[0;31m# Load the locations dataset\u001b[0m\u001b[0;34m\u001b[0m\u001b[0;34m\u001b[0m\u001b[0m\n\u001b[0;32m---> 32\u001b[0;31m \u001b[0mlocations_df\u001b[0m \u001b[0;34m=\u001b[0m \u001b[0mload_locations_dataset\u001b[0m\u001b[0;34m(\u001b[0m\u001b[0;34m)\u001b[0m\u001b[0;34m\u001b[0m\u001b[0;34m\u001b[0m\u001b[0m\n\u001b[0m\u001b[1;32m     33\u001b[0m \u001b[0;34m\u001b[0m\u001b[0m\n\u001b[1;32m     34\u001b[0m \u001b[0;31m# Get hospitals from the dataset\u001b[0m\u001b[0;34m\u001b[0m\u001b[0;34m\u001b[0m\u001b[0m\n",
            "\u001b[0;32m<ipython-input-1-6eebc9b23a01>\u001b[0m in \u001b[0;36mload_locations_dataset\u001b[0;34m()\u001b[0m\n\u001b[1;32m     11\u001b[0m \u001b[0;32mdef\u001b[0m \u001b[0mload_locations_dataset\u001b[0m\u001b[0;34m(\u001b[0m\u001b[0;34m)\u001b[0m\u001b[0;34m:\u001b[0m\u001b[0;34m\u001b[0m\u001b[0;34m\u001b[0m\u001b[0m\n\u001b[1;32m     12\u001b[0m     \u001b[0mdataset_path\u001b[0m \u001b[0;34m=\u001b[0m \u001b[0;34m\"location_dataset.csv\"\u001b[0m  \u001b[0;31m# Replace this with your dataset path\u001b[0m\u001b[0;34m\u001b[0m\u001b[0;34m\u001b[0m\u001b[0m\n\u001b[0;32m---> 13\u001b[0;31m     \u001b[0;32mreturn\u001b[0m \u001b[0mpd\u001b[0m\u001b[0;34m.\u001b[0m\u001b[0mread_csv\u001b[0m\u001b[0;34m(\u001b[0m\u001b[0mdataset_path\u001b[0m\u001b[0;34m)\u001b[0m\u001b[0;34m\u001b[0m\u001b[0;34m\u001b[0m\u001b[0m\n\u001b[0m\u001b[1;32m     14\u001b[0m \u001b[0;34m\u001b[0m\u001b[0m\n\u001b[1;32m     15\u001b[0m \u001b[0;32mdef\u001b[0m \u001b[0mfilter_locations_by_category\u001b[0m\u001b[0;34m(\u001b[0m\u001b[0mdf\u001b[0m\u001b[0;34m,\u001b[0m \u001b[0mcategory\u001b[0m\u001b[0;34m)\u001b[0m\u001b[0;34m:\u001b[0m\u001b[0;34m\u001b[0m\u001b[0;34m\u001b[0m\u001b[0m\n",
            "\u001b[0;32m/usr/local/lib/python3.10/dist-packages/pandas/util/_decorators.py\u001b[0m in \u001b[0;36mwrapper\u001b[0;34m(*args, **kwargs)\u001b[0m\n\u001b[1;32m    209\u001b[0m                 \u001b[0;32melse\u001b[0m\u001b[0;34m:\u001b[0m\u001b[0;34m\u001b[0m\u001b[0;34m\u001b[0m\u001b[0m\n\u001b[1;32m    210\u001b[0m                     \u001b[0mkwargs\u001b[0m\u001b[0;34m[\u001b[0m\u001b[0mnew_arg_name\u001b[0m\u001b[0;34m]\u001b[0m \u001b[0;34m=\u001b[0m \u001b[0mnew_arg_value\u001b[0m\u001b[0;34m\u001b[0m\u001b[0;34m\u001b[0m\u001b[0m\n\u001b[0;32m--> 211\u001b[0;31m             \u001b[0;32mreturn\u001b[0m \u001b[0mfunc\u001b[0m\u001b[0;34m(\u001b[0m\u001b[0;34m*\u001b[0m\u001b[0margs\u001b[0m\u001b[0;34m,\u001b[0m \u001b[0;34m**\u001b[0m\u001b[0mkwargs\u001b[0m\u001b[0;34m)\u001b[0m\u001b[0;34m\u001b[0m\u001b[0;34m\u001b[0m\u001b[0m\n\u001b[0m\u001b[1;32m    212\u001b[0m \u001b[0;34m\u001b[0m\u001b[0m\n\u001b[1;32m    213\u001b[0m         \u001b[0;32mreturn\u001b[0m \u001b[0mcast\u001b[0m\u001b[0;34m(\u001b[0m\u001b[0mF\u001b[0m\u001b[0;34m,\u001b[0m \u001b[0mwrapper\u001b[0m\u001b[0;34m)\u001b[0m\u001b[0;34m\u001b[0m\u001b[0;34m\u001b[0m\u001b[0m\n",
            "\u001b[0;32m/usr/local/lib/python3.10/dist-packages/pandas/util/_decorators.py\u001b[0m in \u001b[0;36mwrapper\u001b[0;34m(*args, **kwargs)\u001b[0m\n\u001b[1;32m    329\u001b[0m                     \u001b[0mstacklevel\u001b[0m\u001b[0;34m=\u001b[0m\u001b[0mfind_stack_level\u001b[0m\u001b[0;34m(\u001b[0m\u001b[0;34m)\u001b[0m\u001b[0;34m,\u001b[0m\u001b[0;34m\u001b[0m\u001b[0;34m\u001b[0m\u001b[0m\n\u001b[1;32m    330\u001b[0m                 )\n\u001b[0;32m--> 331\u001b[0;31m             \u001b[0;32mreturn\u001b[0m \u001b[0mfunc\u001b[0m\u001b[0;34m(\u001b[0m\u001b[0;34m*\u001b[0m\u001b[0margs\u001b[0m\u001b[0;34m,\u001b[0m \u001b[0;34m**\u001b[0m\u001b[0mkwargs\u001b[0m\u001b[0;34m)\u001b[0m\u001b[0;34m\u001b[0m\u001b[0;34m\u001b[0m\u001b[0m\n\u001b[0m\u001b[1;32m    332\u001b[0m \u001b[0;34m\u001b[0m\u001b[0m\n\u001b[1;32m    333\u001b[0m         \u001b[0;31m# error: \"Callable[[VarArg(Any), KwArg(Any)], Any]\" has no\u001b[0m\u001b[0;34m\u001b[0m\u001b[0;34m\u001b[0m\u001b[0m\n",
            "\u001b[0;32m/usr/local/lib/python3.10/dist-packages/pandas/io/parsers/readers.py\u001b[0m in \u001b[0;36mread_csv\u001b[0;34m(filepath_or_buffer, sep, delimiter, header, names, index_col, usecols, squeeze, prefix, mangle_dupe_cols, dtype, engine, converters, true_values, false_values, skipinitialspace, skiprows, skipfooter, nrows, na_values, keep_default_na, na_filter, verbose, skip_blank_lines, parse_dates, infer_datetime_format, keep_date_col, date_parser, dayfirst, cache_dates, iterator, chunksize, compression, thousands, decimal, lineterminator, quotechar, quoting, doublequote, escapechar, comment, encoding, encoding_errors, dialect, error_bad_lines, warn_bad_lines, on_bad_lines, delim_whitespace, low_memory, memory_map, float_precision, storage_options)\u001b[0m\n\u001b[1;32m    948\u001b[0m     \u001b[0mkwds\u001b[0m\u001b[0;34m.\u001b[0m\u001b[0mupdate\u001b[0m\u001b[0;34m(\u001b[0m\u001b[0mkwds_defaults\u001b[0m\u001b[0;34m)\u001b[0m\u001b[0;34m\u001b[0m\u001b[0;34m\u001b[0m\u001b[0m\n\u001b[1;32m    949\u001b[0m \u001b[0;34m\u001b[0m\u001b[0m\n\u001b[0;32m--> 950\u001b[0;31m     \u001b[0;32mreturn\u001b[0m \u001b[0m_read\u001b[0m\u001b[0;34m(\u001b[0m\u001b[0mfilepath_or_buffer\u001b[0m\u001b[0;34m,\u001b[0m \u001b[0mkwds\u001b[0m\u001b[0;34m)\u001b[0m\u001b[0;34m\u001b[0m\u001b[0;34m\u001b[0m\u001b[0m\n\u001b[0m\u001b[1;32m    951\u001b[0m \u001b[0;34m\u001b[0m\u001b[0m\n\u001b[1;32m    952\u001b[0m \u001b[0;34m\u001b[0m\u001b[0m\n",
            "\u001b[0;32m/usr/local/lib/python3.10/dist-packages/pandas/io/parsers/readers.py\u001b[0m in \u001b[0;36m_read\u001b[0;34m(filepath_or_buffer, kwds)\u001b[0m\n\u001b[1;32m    603\u001b[0m \u001b[0;34m\u001b[0m\u001b[0m\n\u001b[1;32m    604\u001b[0m     \u001b[0;31m# Create the parser.\u001b[0m\u001b[0;34m\u001b[0m\u001b[0;34m\u001b[0m\u001b[0m\n\u001b[0;32m--> 605\u001b[0;31m     \u001b[0mparser\u001b[0m \u001b[0;34m=\u001b[0m \u001b[0mTextFileReader\u001b[0m\u001b[0;34m(\u001b[0m\u001b[0mfilepath_or_buffer\u001b[0m\u001b[0;34m,\u001b[0m \u001b[0;34m**\u001b[0m\u001b[0mkwds\u001b[0m\u001b[0;34m)\u001b[0m\u001b[0;34m\u001b[0m\u001b[0;34m\u001b[0m\u001b[0m\n\u001b[0m\u001b[1;32m    606\u001b[0m \u001b[0;34m\u001b[0m\u001b[0m\n\u001b[1;32m    607\u001b[0m     \u001b[0;32mif\u001b[0m \u001b[0mchunksize\u001b[0m \u001b[0;32mor\u001b[0m \u001b[0miterator\u001b[0m\u001b[0;34m:\u001b[0m\u001b[0;34m\u001b[0m\u001b[0;34m\u001b[0m\u001b[0m\n",
            "\u001b[0;32m/usr/local/lib/python3.10/dist-packages/pandas/io/parsers/readers.py\u001b[0m in \u001b[0;36m__init__\u001b[0;34m(self, f, engine, **kwds)\u001b[0m\n\u001b[1;32m   1440\u001b[0m \u001b[0;34m\u001b[0m\u001b[0m\n\u001b[1;32m   1441\u001b[0m         \u001b[0mself\u001b[0m\u001b[0;34m.\u001b[0m\u001b[0mhandles\u001b[0m\u001b[0;34m:\u001b[0m \u001b[0mIOHandles\u001b[0m \u001b[0;34m|\u001b[0m \u001b[0;32mNone\u001b[0m \u001b[0;34m=\u001b[0m \u001b[0;32mNone\u001b[0m\u001b[0;34m\u001b[0m\u001b[0;34m\u001b[0m\u001b[0m\n\u001b[0;32m-> 1442\u001b[0;31m         \u001b[0mself\u001b[0m\u001b[0;34m.\u001b[0m\u001b[0m_engine\u001b[0m \u001b[0;34m=\u001b[0m \u001b[0mself\u001b[0m\u001b[0;34m.\u001b[0m\u001b[0m_make_engine\u001b[0m\u001b[0;34m(\u001b[0m\u001b[0mf\u001b[0m\u001b[0;34m,\u001b[0m \u001b[0mself\u001b[0m\u001b[0;34m.\u001b[0m\u001b[0mengine\u001b[0m\u001b[0;34m)\u001b[0m\u001b[0;34m\u001b[0m\u001b[0;34m\u001b[0m\u001b[0m\n\u001b[0m\u001b[1;32m   1443\u001b[0m \u001b[0;34m\u001b[0m\u001b[0m\n\u001b[1;32m   1444\u001b[0m     \u001b[0;32mdef\u001b[0m \u001b[0mclose\u001b[0m\u001b[0;34m(\u001b[0m\u001b[0mself\u001b[0m\u001b[0;34m)\u001b[0m \u001b[0;34m->\u001b[0m \u001b[0;32mNone\u001b[0m\u001b[0;34m:\u001b[0m\u001b[0;34m\u001b[0m\u001b[0;34m\u001b[0m\u001b[0m\n",
            "\u001b[0;32m/usr/local/lib/python3.10/dist-packages/pandas/io/parsers/readers.py\u001b[0m in \u001b[0;36m_make_engine\u001b[0;34m(self, f, engine)\u001b[0m\n\u001b[1;32m   1733\u001b[0m                 \u001b[0;32mif\u001b[0m \u001b[0;34m\"b\"\u001b[0m \u001b[0;32mnot\u001b[0m \u001b[0;32min\u001b[0m \u001b[0mmode\u001b[0m\u001b[0;34m:\u001b[0m\u001b[0;34m\u001b[0m\u001b[0;34m\u001b[0m\u001b[0m\n\u001b[1;32m   1734\u001b[0m                     \u001b[0mmode\u001b[0m \u001b[0;34m+=\u001b[0m \u001b[0;34m\"b\"\u001b[0m\u001b[0;34m\u001b[0m\u001b[0;34m\u001b[0m\u001b[0m\n\u001b[0;32m-> 1735\u001b[0;31m             self.handles = get_handle(\n\u001b[0m\u001b[1;32m   1736\u001b[0m                 \u001b[0mf\u001b[0m\u001b[0;34m,\u001b[0m\u001b[0;34m\u001b[0m\u001b[0;34m\u001b[0m\u001b[0m\n\u001b[1;32m   1737\u001b[0m                 \u001b[0mmode\u001b[0m\u001b[0;34m,\u001b[0m\u001b[0;34m\u001b[0m\u001b[0;34m\u001b[0m\u001b[0m\n",
            "\u001b[0;32m/usr/local/lib/python3.10/dist-packages/pandas/io/common.py\u001b[0m in \u001b[0;36mget_handle\u001b[0;34m(path_or_buf, mode, encoding, compression, memory_map, is_text, errors, storage_options)\u001b[0m\n\u001b[1;32m    854\u001b[0m         \u001b[0;32mif\u001b[0m \u001b[0mioargs\u001b[0m\u001b[0;34m.\u001b[0m\u001b[0mencoding\u001b[0m \u001b[0;32mand\u001b[0m \u001b[0;34m\"b\"\u001b[0m \u001b[0;32mnot\u001b[0m \u001b[0;32min\u001b[0m \u001b[0mioargs\u001b[0m\u001b[0;34m.\u001b[0m\u001b[0mmode\u001b[0m\u001b[0;34m:\u001b[0m\u001b[0;34m\u001b[0m\u001b[0;34m\u001b[0m\u001b[0m\n\u001b[1;32m    855\u001b[0m             \u001b[0;31m# Encoding\u001b[0m\u001b[0;34m\u001b[0m\u001b[0;34m\u001b[0m\u001b[0m\n\u001b[0;32m--> 856\u001b[0;31m             handle = open(\n\u001b[0m\u001b[1;32m    857\u001b[0m                 \u001b[0mhandle\u001b[0m\u001b[0;34m,\u001b[0m\u001b[0;34m\u001b[0m\u001b[0;34m\u001b[0m\u001b[0m\n\u001b[1;32m    858\u001b[0m                 \u001b[0mioargs\u001b[0m\u001b[0;34m.\u001b[0m\u001b[0mmode\u001b[0m\u001b[0;34m,\u001b[0m\u001b[0;34m\u001b[0m\u001b[0;34m\u001b[0m\u001b[0m\n",
            "\u001b[0;31mFileNotFoundError\u001b[0m: [Errno 2] No such file or directory: 'location_dataset.csv'"
          ]
        }
      ]
    },
    {
      "cell_type": "code",
      "source": [
        "import pandas as pd\n",
        "from geopy.distance import geodesic\n",
        "from ipyleaflet import Map, Marker\n",
        "import ipywidgets as widgets\n",
        "import requests\n",
        "\n",
        "# Custom CSS for styling\n",
        "custom_css = \"\"\"\n",
        "    .widget-label {\n",
        "        color: #336699;\n",
        "        font-weight: bold;\n",
        "    }\n",
        "    .widget-text {\n",
        "        width: 200px;\n",
        "        padding: 5px;\n",
        "        margin-bottom: 10px;\n",
        "    }\n",
        "    .widget-dropdown {\n",
        "        width: 200px;\n",
        "        padding: 5px;\n",
        "        margin-bottom: 10px;\n",
        "        background-color: #f2f2f2;\n",
        "    }\n",
        "    .widget-button {\n",
        "        padding: 10px 20px;\n",
        "        background-color: #336699;\n",
        "        color: white;\n",
        "        border: none;\n",
        "        cursor: pointer;\n",
        "    }\n",
        "    .widget-button:hover {\n",
        "        background-color: #005f8b;\n",
        "    }\n",
        "\"\"\"\n",
        "\n",
        "def load_locations_dataset():\n",
        "    dataset_path = \"location_dataset.csv\"  # Replace this with your dataset path\n",
        "    return pd.read_csv(dataset_path)\n",
        "\n",
        "def filter_locations_by_category(df, category):\n",
        "    return df[df['category'] == category]\n",
        "\n",
        "def get_nearby_locations(user_location, locations_df, radius=5.0):\n",
        "    nearby_locations = []\n",
        "    for index, row in locations_df.iterrows():\n",
        "        location_coords = (row['latitude'], row['longitude'])\n",
        "        distance = geodesic(user_location, location_coords).kilometers\n",
        "        if distance <= radius:\n",
        "            nearby_locations.append({\n",
        "                'name': row['name'],\n",
        "                'category': row['category'],\n",
        "                'latitude': row['latitude'],\n",
        "                'longitude': row['longitude'],\n",
        "                'distance_km': distance\n",
        "            })\n",
        "    return nearby_locations\n",
        "\n",
        "def display_locations_on_map(user_location, locations):\n",
        "    map_center = user_location\n",
        "    m = Map(center=map_center, zoom=12)\n",
        "\n",
        "    for loc in locations:\n",
        "        marker = Marker(location=(loc['latitude'], loc['longitude']), title=loc['name'])\n",
        "        m.add_layer(marker)\n",
        "\n",
        "    display(m)\n",
        "\n",
        "# Applying custom styles to widgets\n",
        "style = widgets.HTML('<style>' + custom_css + '</style>')\n",
        "display(style)\n",
        "\n",
        "# Creating widgets for user input\n",
        "categories = ['hospital', 'petrol_pump', 'food_place','Bank_Atm']  # Example categories\n",
        "category = widgets.Dropdown(description='Category:', options=categories, style={'description_width': 'initial'})\n",
        "\n",
        "# Displaying widgets\n",
        "display(category)\n",
        "\n",
        "# Load the locations dataset\n",
        "locations_df = load_locations_dataset()\n",
        "\n",
        "def get_user_location():\n",
        "    try:\n",
        "        response = requests.get('https://ipapi.co/json/')\n",
        "        data = response.json()\n",
        "        return data.get('latitude'), data.get('longitude')\n",
        "    except Exception as e:\n",
        "        print(\"Error fetching user location:\", e)\n",
        "        return None, None\n",
        "\n",
        "def on_button_clicked(b):\n",
        "    # Get user's current location\n",
        "    lat, lon = get_user_location()\n",
        "\n",
        "    if lat is not None and lon is not None:\n",
        "        user_location = (lat, lon)\n",
        "        cat = category.value\n",
        "\n",
        "        # Filter locations by category\n",
        "        filtered_locations = filter_locations_by_category(locations_df, cat)\n",
        "\n",
        "        # Get nearby locations\n",
        "        nearby_locations = get_nearby_locations(user_location, filtered_locations)\n",
        "\n",
        "        # Display nearby locations on map\n",
        "        display_locations_on_map(user_location, nearby_locations)\n",
        "    else:\n",
        "        print(\"Unable to fetch user location. Please check your internet connection.\")\n",
        "\n",
        "# Button for triggering the processing\n",
        "button = widgets.Button(description=\"Show Map\", style={'button_color': '#336699'})\n",
        "button.on_click(on_button_clicked)\n",
        "display(button)\n",
        "\n"
      ],
      "metadata": {
        "id": "mdKTA4LBOgIy",
        "colab": {
          "base_uri": "https://localhost:8080/",
          "height": 497,
          "referenced_widgets": [
            "e5eb91530010405c855a898cb854a0b4",
            "af9e72ff26664980837b940c6dd1881e",
            "272e555651a4485bb3187c8891afe600",
            "be8075912c904f119a421d4639905a30",
            "127d38d5b04142779f27e18dbea69707",
            "988edbb314f1448db8d3b3b50181ec6e",
            "6bfb40843242450aaa2de0b722c73bd0",
            "c67b24459fe243d2b0edb1a8c6c77d57",
            "ad8fd80189314f1d958bd53e9dcc0288",
            "a3190db495614736aeaf5318603e1b49",
            "2a583c973256415281fd9f9ed8cb937e",
            "677b864e45df4bb38cc5fcf3c4acd099",
            "c408c627022d4b22a435a90f5c169a31",
            "77b8f44b4280468387286651f42312e2",
            "4acff9d5a8664c8a8c68175a7f4dd166",
            "4231a0068d47432392d50eee53114e97",
            "9cb8ac6d5a5f429bbe56f1e878208c69"
          ]
        },
        "outputId": "28a18a2c-c040-4c49-d872-dbd469892577"
      },
      "execution_count": null,
      "outputs": [
        {
          "output_type": "display_data",
          "data": {
            "text/plain": [
              "HTML(value='<style>\\n    .widget-label {\\n        color: #336699;\\n        font-weight: bold;\\n    }\\n    .wid…"
            ],
            "application/vnd.jupyter.widget-view+json": {
              "version_major": 2,
              "version_minor": 0,
              "model_id": "e5eb91530010405c855a898cb854a0b4"
            }
          },
          "metadata": {
            "application/vnd.jupyter.widget-view+json": {
              "colab": {
                "custom_widget_manager": {
                  "url": "https://ssl.gstatic.com/colaboratory-static/widgets/colab-cdn-widget-manager/b3e629b1971e1542/manager.min.js"
                }
              }
            }
          }
        },
        {
          "output_type": "display_data",
          "data": {
            "text/plain": [
              "Dropdown(description='Category:', options=('hospital', 'petrol_pump', 'food_place', 'Bank_Atm'), style=Descrip…"
            ],
            "application/vnd.jupyter.widget-view+json": {
              "version_major": 2,
              "version_minor": 0,
              "model_id": "be8075912c904f119a421d4639905a30"
            }
          },
          "metadata": {
            "application/vnd.jupyter.widget-view+json": {
              "colab": {
                "custom_widget_manager": {
                  "url": "https://ssl.gstatic.com/colaboratory-static/widgets/colab-cdn-widget-manager/b3e629b1971e1542/manager.min.js"
                }
              }
            }
          }
        },
        {
          "output_type": "display_data",
          "data": {
            "text/plain": [
              "Button(description='Show Map', style=ButtonStyle(button_color='#336699'))"
            ],
            "application/vnd.jupyter.widget-view+json": {
              "version_major": 2,
              "version_minor": 0,
              "model_id": "6bfb40843242450aaa2de0b722c73bd0"
            }
          },
          "metadata": {
            "application/vnd.jupyter.widget-view+json": {
              "colab": {
                "custom_widget_manager": {
                  "url": "https://ssl.gstatic.com/colaboratory-static/widgets/colab-cdn-widget-manager/b3e629b1971e1542/manager.min.js"
                }
              }
            }
          }
        },
        {
          "output_type": "display_data",
          "data": {
            "text/plain": [
              "Map(center=[32.853, -79.9876], controls=(ZoomControl(options=['position', 'zoom_in_text', 'zoom_in_title', 'zo…"
            ],
            "application/vnd.jupyter.widget-view+json": {
              "version_major": 2,
              "version_minor": 0,
              "model_id": "a3190db495614736aeaf5318603e1b49"
            }
          },
          "metadata": {
            "application/vnd.jupyter.widget-view+json": {
              "colab": {
                "custom_widget_manager": {
                  "url": "https://ssl.gstatic.com/colaboratory-static/widgets/colab-cdn-widget-manager/b3e629b1971e1542/manager.min.js"
                }
              }
            }
          }
        }
      ]
    },
    {
      "cell_type": "code",
      "source": [
        "import pandas as pd\n",
        "from geopy.distance import geodesic\n",
        "from ipyleaflet import Map, Marker\n",
        "import ipywidgets as widgets\n",
        "\n",
        "# Custom CSS for styling\n",
        "custom_css = \"\"\"\n",
        "    .widget-label {\n",
        "        color: #336699;\n",
        "        font-weight: bold;\n",
        "    }\n",
        "    .widget-text {\n",
        "        width: 200px;\n",
        "        padding: 5px;\n",
        "        margin-bottom: 10px;\n",
        "    }\n",
        "    .widget-dropdown {\n",
        "        width: 200px;\n",
        "        padding: 5px;\n",
        "        margin-bottom: 10px;\n",
        "        background-color: #f2f2f2;\n",
        "    }\n",
        "    .widget-button {\n",
        "        padding: 10px 20px;\n",
        "        background-color: #336699;\n",
        "        color: white;\n",
        "        border: none;\n",
        "        cursor: pointer;\n",
        "    }\n",
        "    .widget-button:hover {\n",
        "        background-color: #005f8b;\n",
        "    }\n",
        "\"\"\"\n",
        "\n",
        "def load_locations_dataset():\n",
        "    dataset_path = \"location_dataset.csv\"  # Replace this with your dataset path\n",
        "    return pd.read_csv(dataset_path)\n",
        "\n",
        "def display_location_on_map(latitude, longitude):\n",
        "    m = Map(center=(latitude, longitude), zoom=12)\n",
        "    marker = Marker(location=(latitude, longitude))\n",
        "    m.add_layer(marker)\n",
        "    display(m)\n",
        "\n",
        "# Applying custom styles to widgets\n",
        "style = widgets.HTML('<style>' + custom_css + '</style>')\n",
        "display(style)\n",
        "\n",
        "# Load the locations dataset\n",
        "locations_df = load_locations_dataset()\n",
        "\n",
        "def on_button_clicked(b):\n",
        "    # Selecting the first latitude and longitude from the dataset\n",
        "    if not locations_df.empty:\n",
        "        latitude = locations_df.iloc[0]['latitude']\n",
        "        longitude = locations_df.iloc[0]['longitude']\n",
        "        display_location_on_map(latitude, longitude)\n",
        "    else:\n",
        "        print(\"Dataset is empty.\")\n",
        "\n",
        "# Button for triggering the processing\n",
        "button = widgets.Button(description=\"Show Map\", style={'button_color': '#336699'})\n",
        "button.on_click(on_button_clicked)\n",
        "display(button)\n"
      ],
      "metadata": {
        "colab": {
          "base_uri": "https://localhost:8080/",
          "height": 459,
          "referenced_widgets": [
            "b468ffd5bdd14c5380e2cd60ec2f6d9a",
            "7405b9c57f7a43cfa9374fec502439b2",
            "a8898f29af7b4004819dff3e12c238fd",
            "25102fd3ac624c199c823ae0416b70b0",
            "83b0bfae2f8a4ee4804b5c6289073ca1",
            "b11b78ec9b674ae39858d29bd3248cf2",
            "83d26b5c71874d19846dfcc1cd19675c",
            "11d92d605b07432abd83f7cbcdc4c031",
            "2481c7b162bd4528b1839524656ea542",
            "0afae3d8e3a1486e914af9d821a43acc",
            "3932a4568de74f889740fa78c4a3c756",
            "a6fd28802ddc4ee5abff306a8f1d4918",
            "ab60a3a95a5446dd9da8b92a765c0842",
            "baf11c0cba3b4b6b9715fbabe7837be7",
            "b04189d98e6f44cca782771125724d4e"
          ]
        },
        "id": "xpLy-Do4l2Dk",
        "outputId": "ac4c8ee7-1804-4db8-e72e-ae3040c669a7"
      },
      "execution_count": null,
      "outputs": [
        {
          "output_type": "display_data",
          "data": {
            "text/plain": [
              "HTML(value='<style>\\n    .widget-label {\\n        color: #336699;\\n        font-weight: bold;\\n    }\\n    .wid…"
            ],
            "application/vnd.jupyter.widget-view+json": {
              "version_major": 2,
              "version_minor": 0,
              "model_id": "b468ffd5bdd14c5380e2cd60ec2f6d9a"
            }
          },
          "metadata": {
            "application/vnd.jupyter.widget-view+json": {
              "colab": {
                "custom_widget_manager": {
                  "url": "https://ssl.gstatic.com/colaboratory-static/widgets/colab-cdn-widget-manager/b3e629b1971e1542/manager.min.js"
                }
              }
            }
          }
        },
        {
          "output_type": "display_data",
          "data": {
            "text/plain": [
              "Button(description='Show Map', style=ButtonStyle(button_color='#336699'))"
            ],
            "application/vnd.jupyter.widget-view+json": {
              "version_major": 2,
              "version_minor": 0,
              "model_id": "25102fd3ac624c199c823ae0416b70b0"
            }
          },
          "metadata": {
            "application/vnd.jupyter.widget-view+json": {
              "colab": {
                "custom_widget_manager": {
                  "url": "https://ssl.gstatic.com/colaboratory-static/widgets/colab-cdn-widget-manager/b3e629b1971e1542/manager.min.js"
                }
              }
            }
          }
        },
        {
          "output_type": "display_data",
          "data": {
            "text/plain": [
              "Map(center=[21.1858, 79.0795], controls=(ZoomControl(options=['position', 'zoom_in_text', 'zoom_in_title', 'zo…"
            ],
            "application/vnd.jupyter.widget-view+json": {
              "version_major": 2,
              "version_minor": 0,
              "model_id": "83d26b5c71874d19846dfcc1cd19675c"
            }
          },
          "metadata": {
            "application/vnd.jupyter.widget-view+json": {
              "colab": {
                "custom_widget_manager": {
                  "url": "https://ssl.gstatic.com/colaboratory-static/widgets/colab-cdn-widget-manager/b3e629b1971e1542/manager.min.js"
                }
              }
            }
          }
        }
      ]
    },
    {
      "cell_type": "code",
      "source": [
        "import pandas as pd\n",
        "from geopy.distance import geodesic\n",
        "from ipyleaflet import Map, Marker\n",
        "import ipywidgets as widgets\n",
        "from IPython.display import display, HTML\n",
        "\n",
        "# Custom CSS for styling\n",
        "custom_css = \"\"\"\n",
        "    .widget-label {\n",
        "        color: #336699;\n",
        "        font-weight: bold;\n",
        "    }\n",
        "    .widget-text {\n",
        "        width: 200px;\n",
        "        padding: 5px;\n",
        "        margin-bottom: 10px;\n",
        "    }\n",
        "    .widget-dropdown {\n",
        "        width: 200px;\n",
        "        padding: 5px;\n",
        "        margin-bottom: 10px;\n",
        "        background-color: #f2f2f2;\n",
        "    }\n",
        "    .widget-button {\n",
        "        padding: 10px 20px;\n",
        "        background-color: #336699;\n",
        "        color: white;\n",
        "        border: none;\n",
        "        cursor: pointer;\n",
        "    }\n",
        "    .widget-button:hover {\n",
        "        background-color: #005f8b;\n",
        "    }\n",
        "\"\"\"\n",
        "\n",
        "def load_locations_dataset():\n",
        "    dataset_path = \"location_dataset.csv\"  # Replace this with your dataset path\n",
        "    return pd.read_csv(dataset_path)\n",
        "\n",
        "def filter_locations_by_category(df, category):\n",
        "    return df[df['category'] == category]\n",
        "\n",
        "def get_nearby_locations(user_location, locations_df, radius=5.0):\n",
        "    nearby_locations = []\n",
        "    for index, row in locations_df.iterrows():\n",
        "        location_coords = (row['latitude'], row['longitude'])\n",
        "        distance = geodesic(user_location, location_coords).kilometers\n",
        "        if distance <= radius:\n",
        "            nearby_locations.append({\n",
        "                'name': row['name'],\n",
        "                'category': row['category'],\n",
        "                'latitude': row['latitude'],\n",
        "                'longitude': row['longitude'],\n",
        "                'distance_km': distance\n",
        "            })\n",
        "    return nearby_locations\n",
        "\n",
        "def display_locations_on_map(user_location, locations):\n",
        "    map_center = user_location\n",
        "    m = Map(center=map_center, zoom=12)\n",
        "\n",
        "    for loc in locations:\n",
        "        marker = Marker(location=(loc['latitude'], loc['longitude']), title=loc['name'])\n",
        "        m.add_layer(marker)\n",
        "\n",
        "    display(m)\n",
        "\n",
        "# Applying custom styles to widgets\n",
        "style = HTML('<style>' + custom_css + '</style>')\n",
        "display(style)\n",
        "\n",
        "# Default latitude and longitude\n",
        "default_latitude = 21.1766\n",
        "default_longitude = 79.0616\n",
        "\n",
        "# Displaying heading and default location\n",
        "display(HTML('<h1>Location Finder</h1>'))\n",
        "display(HTML('<h2>Initial locationis set to RCOEM</h2>'))\n",
        "display(HTML('<h3>This website shows you the details of the locations mentioned in the drop down list.It takes Initial location as RCOEM and finds nearby Locations as per the categories mentioned </h3>'))\n",
        "display(HTML(f'<p>Default location: Latitude {default_latitude}, Longitude {default_longitude}</p>'))\n",
        "\n",
        "# Load the locations dataset\n",
        "locations_df = load_locations_dataset()\n",
        "\n",
        "# Example categories\n",
        "categories = ['hospital', 'petrol_pump', 'food_place', 'Bank_Atm']\n",
        "category = widgets.Dropdown(description='Category:', options=categories, style={'description_width': 'initial'})\n",
        "\n",
        "# Displaying the category dropdown\n",
        "display(category)\n",
        "\n",
        "def on_button_clicked(b):\n",
        "    user_location = (default_latitude, default_longitude)\n",
        "    cat = category.value\n",
        "\n",
        "    # Filter locations by category\n",
        "    filtered_locations = filter_locations_by_category(locations_df, cat)\n",
        "\n",
        "    # Get nearby locations\n",
        "    nearby_locations = get_nearby_locations(user_location, filtered_locations)\n",
        "\n",
        "    # Display nearby locations on map\n",
        "    display_locations_on_map(user_location, nearby_locations)\n",
        "\n",
        "# Button for triggering the processing\n",
        "button = widgets.Button(description=\"Show Map\", style={'button_color': '#336699'})\n",
        "button.on_click(on_button_clicked)\n",
        "display(button)\n"
      ],
      "metadata": {
        "colab": {
          "base_uri": "https://localhost:8080/",
          "height": 676,
          "referenced_widgets": [
            "ce4aba6718cf490c98b7a179b0902f31",
            "37cf5608c4f04c288f4ac79873087aec",
            "cb79203e15e9411b82d498a25a8add03",
            "2ced34044e044c11b173755af6a937aa",
            "c172336dbd1b4ab0ac65fd07c5411dc2",
            "5b45584bf979442abd0ec1862faffdb9",
            "12cb52cc1c0146ea96daabbef3d588b5",
            "9ee9a4527b9149e4a8baaaef2bdb7b02",
            "f9209962cd4643bd834204dc72349ec3",
            "e80200e7adfb46c6ae9ad3e6a5cb83c3",
            "53ce6f96e52e4960aa0ab39059f08a16",
            "7f4bd7da12f545eca41d79f4da4c7037",
            "f3159cb966204638b3e047a1d1beeb64",
            "bee889f9b5384e54a212fd4517da0f5f",
            "01b5b0cd2bb84d25b66ce5b197e4ac71",
            "073ae1cc0ca44e978767c01853416b78",
            "ee9366775890467aad43e821c01baaf6",
            "9dc2d3de7deb4c08bb4d6d068d5e1abc",
            "33931691c20c4b4ab13e76512429d3da"
          ]
        },
        "id": "LS5L3I-Xmak2",
        "outputId": "787ce87b-5b8a-48f0-c800-e51a6485fbae"
      },
      "execution_count": null,
      "outputs": [
        {
          "output_type": "display_data",
          "data": {
            "text/plain": [
              "<IPython.core.display.HTML object>"
            ],
            "text/html": [
              "<style>\n",
              "    .widget-label {\n",
              "        color: #336699;\n",
              "        font-weight: bold;\n",
              "    }\n",
              "    .widget-text {\n",
              "        width: 200px;\n",
              "        padding: 5px;\n",
              "        margin-bottom: 10px;\n",
              "    }\n",
              "    .widget-dropdown {\n",
              "        width: 200px;\n",
              "        padding: 5px;\n",
              "        margin-bottom: 10px;\n",
              "        background-color: #f2f2f2;\n",
              "    }\n",
              "    .widget-button {\n",
              "        padding: 10px 20px;\n",
              "        background-color: #336699;\n",
              "        color: white;\n",
              "        border: none;\n",
              "        cursor: pointer;\n",
              "    }\n",
              "    .widget-button:hover {\n",
              "        background-color: #005f8b;\n",
              "    }\n",
              "</style>"
            ]
          },
          "metadata": {}
        },
        {
          "output_type": "display_data",
          "data": {
            "text/plain": [
              "<IPython.core.display.HTML object>"
            ],
            "text/html": [
              "<h1>Location Finder</h1>"
            ]
          },
          "metadata": {}
        },
        {
          "output_type": "display_data",
          "data": {
            "text/plain": [
              "<IPython.core.display.HTML object>"
            ],
            "text/html": [
              "<h2>Initial locationis set to RCOEM</h2>"
            ]
          },
          "metadata": {}
        },
        {
          "output_type": "display_data",
          "data": {
            "text/plain": [
              "<IPython.core.display.HTML object>"
            ],
            "text/html": [
              "<h3>This website shows you the details of the locations mentioned in the drop down list.It takes Initial location as RCOEM and finds nearby Locations as per the categories mentioned </h3>"
            ]
          },
          "metadata": {}
        },
        {
          "output_type": "display_data",
          "data": {
            "text/plain": [
              "<IPython.core.display.HTML object>"
            ],
            "text/html": [
              "<p>Default location: Latitude 21.1766, Longitude 79.0616</p>"
            ]
          },
          "metadata": {}
        },
        {
          "output_type": "display_data",
          "data": {
            "text/plain": [
              "Dropdown(description='Category:', options=('hospital', 'petrol_pump', 'food_place', 'Bank_Atm'), style=Descrip…"
            ],
            "application/vnd.jupyter.widget-view+json": {
              "version_major": 2,
              "version_minor": 0,
              "model_id": "ce4aba6718cf490c98b7a179b0902f31"
            }
          },
          "metadata": {
            "application/vnd.jupyter.widget-view+json": {
              "colab": {
                "custom_widget_manager": {
                  "url": "https://ssl.gstatic.com/colaboratory-static/widgets/colab-cdn-widget-manager/b3e629b1971e1542/manager.min.js"
                }
              }
            }
          }
        },
        {
          "output_type": "display_data",
          "data": {
            "text/plain": [
              "Button(description='Show Map', style=ButtonStyle(button_color='#336699'))"
            ],
            "application/vnd.jupyter.widget-view+json": {
              "version_major": 2,
              "version_minor": 0,
              "model_id": "2ced34044e044c11b173755af6a937aa"
            }
          },
          "metadata": {
            "application/vnd.jupyter.widget-view+json": {
              "colab": {
                "custom_widget_manager": {
                  "url": "https://ssl.gstatic.com/colaboratory-static/widgets/colab-cdn-widget-manager/b3e629b1971e1542/manager.min.js"
                }
              }
            }
          }
        },
        {
          "output_type": "display_data",
          "data": {
            "text/plain": [
              "Map(center=[21.1766, 79.0616], controls=(ZoomControl(options=['position', 'zoom_in_text', 'zoom_in_title', 'zo…"
            ],
            "application/vnd.jupyter.widget-view+json": {
              "version_major": 2,
              "version_minor": 0,
              "model_id": "12cb52cc1c0146ea96daabbef3d588b5"
            }
          },
          "metadata": {
            "application/vnd.jupyter.widget-view+json": {
              "colab": {
                "custom_widget_manager": {
                  "url": "https://ssl.gstatic.com/colaboratory-static/widgets/colab-cdn-widget-manager/b3e629b1971e1542/manager.min.js"
                }
              }
            }
          }
        }
      ]
    },
    {
      "cell_type": "code",
      "source": [],
      "metadata": {
        "id": "XmpEOl_Yso36"
      },
      "execution_count": null,
      "outputs": []
    }
  ]
}